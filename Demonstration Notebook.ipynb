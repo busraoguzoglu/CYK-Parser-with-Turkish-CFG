{
 "cells": [
  {
   "cell_type": "markdown",
   "metadata": {},
   "source": [
    "https://github.com/RobMcH/CYK-Parser"
   ]
  },
  {
   "cell_type": "markdown",
   "metadata": {},
   "source": [
    "https://github.com/ikergarcia1996/Basic-CYK-Parser"
   ]
  },
  {
   "cell_type": "markdown",
   "metadata": {},
   "source": [
    "https://github.com/denizzagli/Context-Free-Grammars-CFGs/blob/master/main.py"
   ]
  },
  {
   "cell_type": "code",
   "execution_count": 1,
   "metadata": {},
   "outputs": [],
   "source": [
    "from grammar_converter import *\n",
    "from garcia_CYK_Parser import *"
   ]
  },
  {
   "cell_type": "markdown",
   "metadata": {},
   "source": [
    "### Convert Grammar"
   ]
  },
  {
   "cell_type": "code",
   "execution_count": 2,
   "metadata": {},
   "outputs": [],
   "source": [
    "cg = grammar_converter('Grammar/turkish_grammar_with_morphology.txt')\n",
    "cnf = cg.convert_grammar()\n",
    "file = open('Grammar/cnf.txt', 'w')\n",
    "for i in range(len(cnf)):\n",
    "    file.write(\",\".join([cnf[i][0]] + [\"->\"]+ cnf[i][1:]).replace(',', ' ') + \"\\n\")\n",
    "file.close()"
   ]
  },
  {
   "cell_type": "markdown",
   "metadata": {},
   "source": [
    "### Garcia CYK Parser"
   ]
  },
  {
   "cell_type": "code",
   "execution_count": 3,
   "metadata": {},
   "outputs": [
    {
     "name": "stdout",
     "output_type": "stream",
     "text": [
      "\n",
      "Grammar file readed succesfully. Rules readed:\n",
      "S --> S0 Past1\n",
      "S0 --> PRO1 V\n",
      "S --> PRO1 V\n",
      "S --> S1 Past2\n",
      "S1 --> PRO2 V\n",
      "S --> S2 Past3\n",
      "S2 --> PRO3 V\n",
      "NP --> PRO1 PosPro1\n",
      "NP --> PRO2 PosPro2\n",
      "NP --> PRO3 PosPro3\n",
      "NP --> kitap\n",
      "PL --> lar\n",
      "V --> gel\n",
      "V --> oku\n",
      "PRO1 --> ben\n",
      "PRO2 --> sen\n",
      "PRO3 --> o\n",
      "Past1 --> dim\n",
      "Past1 --> dum\n",
      "Past2 --> din\n",
      "Past2 --> dun\n",
      "Past3 --> di\n",
      "Past3 --> du\n",
      "PosPro1 --> im\n",
      "PosPro2 --> in\n",
      "PosPro3 --> nun\n",
      "\n"
     ]
    }
   ],
   "source": [
    "g2 = Grammar('Grammar/cnf.txt')"
   ]
  },
  {
   "cell_type": "code",
   "execution_count": 4,
   "metadata": {},
   "outputs": [
    {
     "name": "stdout",
     "output_type": "stream",
     "text": [
      "Applied Rule: S0[2,1] --> PRO1[1,1] V[1,2]\n",
      "Applied Rule: S[2,1] --> PRO1[1,1] V[1,2]\n",
      "Applied Rule: S[3,1] --> S0[2,1] Past1[1,3]\n",
      "----------------------------------------\n",
      "The sentence IS accepted in the language\n",
      "Number of possible trees: 1\n",
      "----------------------------------------\n",
      "\n",
      " \n",
      "\n",
      "Applied Rule: S1[2,1] --> PRO2[1,1] V[1,2]\n",
      "--------------------------------------------\n",
      "The sentence IS NOT accepted in the language\n",
      "--------------------------------------------\n",
      "\n",
      " \n",
      "\n",
      "Applied Rule: S0[2,1] --> PRO1[1,1] V[1,2]\n",
      "Applied Rule: S[2,1] --> PRO1[1,1] V[1,2]\n",
      "--------------------------------------------\n",
      "The sentence IS NOT accepted in the language\n",
      "--------------------------------------------\n",
      "\n",
      " \n",
      "\n",
      "Applied Rule: S1[2,1] --> PRO2[1,1] V[1,2]\n",
      "Applied Rule: S[3,1] --> S1[2,1] Past2[1,3]\n",
      "----------------------------------------\n",
      "The sentence IS accepted in the language\n",
      "Number of possible trees: 1\n",
      "----------------------------------------\n"
     ]
    }
   ],
   "source": [
    "g2.parse('ben gel dim')\n",
    "print(\"\\n\", \"\\n\")\n",
    "g2.parse('sen gel dim')\n",
    "print(\"\\n\", \"\\n\")\n",
    "g2.parse('ben gel din')\n",
    "print(\"\\n\", \"\\n\")\n",
    "g2.parse('sen gel din')"
   ]
  },
  {
   "cell_type": "code",
   "execution_count": 5,
   "metadata": {},
   "outputs": [
    {
     "data": {
      "text/plain": [
       "{'S0 Past1': ['S'],\n",
       " 'PRO1 V': ['S0', 'S'],\n",
       " 'S1 Past2': ['S'],\n",
       " 'PRO2 V': ['S1'],\n",
       " 'S2 Past3': ['S'],\n",
       " 'PRO3 V': ['S2'],\n",
       " 'PRO1 PosPro1': ['NP'],\n",
       " 'PRO2 PosPro2': ['NP'],\n",
       " 'PRO3 PosPro3': ['NP'],\n",
       " 'kitap': ['NP'],\n",
       " 'lar': ['PL'],\n",
       " 'gel': ['V'],\n",
       " 'oku': ['V'],\n",
       " 'ben': ['PRO1'],\n",
       " 'sen': ['PRO2'],\n",
       " 'o': ['PRO3'],\n",
       " 'dim': ['Past1'],\n",
       " 'dum': ['Past1'],\n",
       " 'din': ['Past2'],\n",
       " 'dun': ['Past2'],\n",
       " 'di': ['Past3'],\n",
       " 'du': ['Past3'],\n",
       " 'im': ['PosPro1'],\n",
       " 'in': ['PosPro2'],\n",
       " 'nun': ['PosPro3']}"
      ]
     },
     "execution_count": 5,
     "metadata": {},
     "output_type": "execute_result"
    }
   ],
   "source": [
    "g2.grammar_rules"
   ]
  },
  {
   "cell_type": "code",
   "execution_count": 6,
   "metadata": {},
   "outputs": [
    {
     "name": "stdout",
     "output_type": "stream",
     "text": [
      "\n",
      "--------  -----  ---------\n",
      "['S']\n",
      "['S1']    []\n",
      "['PRO2']  ['V']  ['Past2']\n",
      "sen       gel    din\n",
      "--------  -----  ---------\n",
      "\n"
     ]
    }
   ],
   "source": [
    "g2.print_parse_table()"
   ]
  }
 ],
 "metadata": {
  "kernelspec": {
   "display_name": "Python 3",
   "language": "python",
   "name": "python3"
  },
  "language_info": {
   "codemirror_mode": {
    "name": "ipython",
    "version": 3
   },
   "file_extension": ".py",
   "mimetype": "text/x-python",
   "name": "python",
   "nbconvert_exporter": "python",
   "pygments_lexer": "ipython3",
   "version": "3.7.9"
  }
 },
 "nbformat": 4,
 "nbformat_minor": 4
}
