{
 "cells": [
  {
   "cell_type": "markdown",
   "metadata": {},
   "source": [
    "https://github.com/RobMcH/CYK-Parser/blob/master/grammar_converter.py"
   ]
  },
  {
   "cell_type": "markdown",
   "metadata": {},
   "source": [
    "https://github.com/denizzagli/Context-Free-Grammars-CFGs/blob/master/main.py"
   ]
  },
  {
   "cell_type": "markdown",
   "metadata": {},
   "source": [
    "### Actual Basic but non working great CYK Parser"
   ]
  },
  {
   "cell_type": "code",
   "execution_count": 1,
   "metadata": {},
   "outputs": [],
   "source": [
    "from rob_CYK_parser import *"
   ]
  },
  {
   "cell_type": "code",
   "execution_count": 2,
   "metadata": {},
   "outputs": [],
   "source": [
    "CYK = Parser('grammar_for_rob.txt', 'astronomers saw stars with telescope')"
   ]
  },
  {
   "cell_type": "code",
   "execution_count": 3,
   "metadata": {},
   "outputs": [
    {
     "name": "stdout",
     "output_type": "stream",
     "text": [
      "The given sentence is contained in the language produced by the given grammar!\n",
      "\n",
      "Possible parse(s):\n",
      "[S [NP 'astronomers'] [VP [V 'saw'] [NP [NP 'stars'] [PP [P 'with'] [NP 'telescope']]]]]\n",
      "[S [NP 'astronomers'] [VP [VP [V 'saw'] [NP 'stars']] [PP [P 'with'] [NP 'telescope']]]]\n"
     ]
    }
   ],
   "source": [
    "CYK.parse()\n",
    "CYK.print_tree()"
   ]
  },
  {
   "cell_type": "markdown",
   "metadata": {},
   "source": [
    "### So called Basic CYK Parser"
   ]
  },
  {
   "cell_type": "code",
   "execution_count": 4,
   "metadata": {},
   "outputs": [],
   "source": [
    "from garcia_CYK_Parser import *"
   ]
  },
  {
   "cell_type": "code",
   "execution_count": 5,
   "metadata": {},
   "outputs": [
    {
     "name": "stdout",
     "output_type": "stream",
     "text": [
      "\n",
      "Grammar file readed succesfully. Rules readed:\n",
      "S --> NP VP\n",
      "PP --> P NP\n",
      "VP --> V NP\n",
      "VP --> VP PP\n",
      "NP --> NP PP\n",
      "NP --> astronomers\n",
      "NP --> ears\n",
      "NP --> saw\n",
      "V --> saw\n",
      "NP --> telescope\n",
      "NP --> stars\n",
      "P --> with\n",
      "\n"
     ]
    }
   ],
   "source": [
    "g = Grammar('grammar.txt')"
   ]
  },
  {
   "cell_type": "code",
   "execution_count": 6,
   "metadata": {},
   "outputs": [
    {
     "name": "stdout",
     "output_type": "stream",
     "text": [
      "Applied Rule: VP[2,2] --> V[1,2] NP[1,3]\n",
      "Applied Rule: PP[2,4] --> P[1,4] NP[1,5]\n",
      "Applied Rule: S[3,1] --> NP[1,1] VP[2,2]\n",
      "Applied Rule: NP[3,3] --> NP[1,3] PP[2,4]\n",
      "Applied Rule: VP[4,2] --> V[1,2] NP[3,3]\n",
      "Applied Rule: VP[4,2] --> VP[2,2] PP[2,4]\n",
      "Applied Rule: S[5,1] --> NP[1,1] VP[4,2]\n",
      "Applied Rule: S[5,1] --> NP[1,1] VP[4,2]\n",
      "----------------------------------------\n",
      "The sentence IS accepted in the language\n",
      "Number of possible trees: 2\n",
      "----------------------------------------\n"
     ]
    }
   ],
   "source": [
    "g.parse('astronomers saw stars with telescope')"
   ]
  },
  {
   "cell_type": "code",
   "execution_count": 7,
   "metadata": {},
   "outputs": [
    {
     "name": "stdout",
     "output_type": "stream",
     "text": [
      "\n",
      "-----------  ------------  ------  ------  ---------\n",
      "['S', 'S']\n",
      "[]           ['VP', 'VP']\n",
      "['S']        []            ['NP']\n",
      "[]           ['VP']        []      ['PP']\n",
      "['NP']       ['NP', 'V']   ['NP']  ['P']   ['NP']\n",
      "astronomers  saw           stars   with    telescope\n",
      "-----------  ------------  ------  ------  ---------\n",
      "\n"
     ]
    }
   ],
   "source": [
    "g.print_parse_table()"
   ]
  },
  {
   "cell_type": "code",
   "execution_count": null,
   "metadata": {},
   "outputs": [],
   "source": []
  },
  {
   "cell_type": "code",
   "execution_count": null,
   "metadata": {},
   "outputs": [],
   "source": []
  }
 ],
 "metadata": {
  "kernelspec": {
   "display_name": "Python 3",
   "language": "python",
   "name": "python3"
  },
  "language_info": {
   "codemirror_mode": {
    "name": "ipython",
    "version": 3
   },
   "file_extension": ".py",
   "mimetype": "text/x-python",
   "name": "python",
   "nbconvert_exporter": "python",
   "pygments_lexer": "ipython3",
   "version": "3.7.9"
  }
 },
 "nbformat": 4,
 "nbformat_minor": 4
}
