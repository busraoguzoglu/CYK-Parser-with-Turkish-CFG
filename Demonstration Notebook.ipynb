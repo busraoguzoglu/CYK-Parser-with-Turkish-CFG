{
 "cells": [
  {
   "cell_type": "markdown",
   "metadata": {},
   "source": [
    "https://github.com/ikergarcia1996/Basic-CYK-Parser"
   ]
  },
  {
   "cell_type": "code",
   "execution_count": 1,
   "metadata": {},
   "outputs": [],
   "source": [
    "from CYK_Parser import *"
   ]
  },
  {
   "cell_type": "markdown",
   "metadata": {},
   "source": [
    "### Garcia CYK Parser"
   ]
  },
  {
   "cell_type": "code",
   "execution_count": 2,
   "metadata": {},
   "outputs": [],
   "source": [
    "g = Grammar('Grammar/turkish_grammar_with_morphology.txt')"
   ]
  },
  {
   "cell_type": "code",
   "execution_count": 3,
   "metadata": {
    "scrolled": false
   },
   "outputs": [
    {
     "name": "stdout",
     "output_type": "stream",
     "text": [
      "ben gel dim\n",
      "Given sentence is gramatically CORRECT\n",
      "Number of possible trees: 1\n"
     ]
    }
   ],
   "source": [
    "sentence = 'ben gel dim'\n",
    "print(sentence)\n",
    "g.parse(sentence)"
   ]
  },
  {
   "cell_type": "code",
   "execution_count": 4,
   "metadata": {},
   "outputs": [
    {
     "name": "stdout",
     "output_type": "stream",
     "text": [
      "sen gel dim\n",
      "Given sentence is gramatically INCORRECT\n"
     ]
    }
   ],
   "source": [
    "sentence = 'sen gel dim'\n",
    "print(sentence)\n",
    "g.parse(sentence)"
   ]
  },
  {
   "cell_type": "code",
   "execution_count": 5,
   "metadata": {},
   "outputs": [
    {
     "name": "stdout",
     "output_type": "stream",
     "text": [
      "ben gel din\n",
      "Given sentence is gramatically INCORRECT\n"
     ]
    }
   ],
   "source": [
    "sentence = 'ben gel din'\n",
    "print(sentence)\n",
    "g.parse(sentence)"
   ]
  },
  {
   "cell_type": "code",
   "execution_count": 6,
   "metadata": {},
   "outputs": [
    {
     "name": "stdout",
     "output_type": "stream",
     "text": [
      "sen gel din\n",
      "Given sentence is gramatically CORRECT\n",
      "Number of possible trees: 1\n"
     ]
    }
   ],
   "source": [
    "sentence = 'sen gel din'\n",
    "print(sentence)\n",
    "g.parse(sentence)"
   ]
  },
  {
   "cell_type": "code",
   "execution_count": 7,
   "metadata": {},
   "outputs": [
    {
     "name": "stdout",
     "output_type": "stream",
     "text": [
      "bir roman lar oku dum\n",
      "Given sentence is gramatically INCORRECT\n"
     ]
    }
   ],
   "source": [
    "sentence = 'bir roman lar oku dum'\n",
    "print(sentence)\n",
    "g.parse(sentence)"
   ]
  },
  {
   "cell_type": "code",
   "execution_count": 8,
   "metadata": {},
   "outputs": [
    {
     "name": "stdout",
     "output_type": "stream",
     "text": [
      "ben roman oku dum\n",
      "Given sentence is gramatically CORRECT\n",
      "Number of possible trees: 1\n"
     ]
    }
   ],
   "source": [
    "sentence = 'ben roman oku dum'\n",
    "print(sentence)\n",
    "g.parse(sentence)"
   ]
  },
  {
   "cell_type": "code",
   "execution_count": 9,
   "metadata": {},
   "outputs": [
    {
     "name": "stdout",
     "output_type": "stream",
     "text": [
      "sen roman oku dum\n",
      "Given sentence is gramatically INCORRECT\n"
     ]
    }
   ],
   "source": [
    "sentence = 'sen roman oku dum'\n",
    "print(sentence)\n",
    "g.parse(sentence)"
   ]
  },
  {
   "cell_type": "code",
   "execution_count": 10,
   "metadata": {},
   "outputs": [
    {
     "name": "stdout",
     "output_type": "stream",
     "text": [
      "ben dün gel dim\n",
      "Given sentence is gramatically CORRECT\n",
      "Number of possible trees: 1\n"
     ]
    }
   ],
   "source": [
    "sentence = 'ben dün gel dim'\n",
    "print(sentence)\n",
    "g.parse(sentence)"
   ]
  },
  {
   "cell_type": "code",
   "execution_count": 11,
   "metadata": {},
   "outputs": [
    {
     "name": "stdout",
     "output_type": "stream",
     "text": [
      "ben yarın gel dim\n",
      "Given sentence is gramatically INCORRECT\n"
     ]
    }
   ],
   "source": [
    "sentence = 'ben yarın gel dim'\n",
    "print(sentence)\n",
    "g.parse(sentence)"
   ]
  },
  {
   "cell_type": "code",
   "execution_count": 12,
   "metadata": {},
   "outputs": [
    {
     "name": "stdout",
     "output_type": "stream",
     "text": [
      "ben yarın gel ecek im\n",
      "Given sentence is gramatically CORRECT\n",
      "Number of possible trees: 1\n"
     ]
    }
   ],
   "source": [
    "sentence = 'ben yarın gel ecek im'\n",
    "print(sentence)\n",
    "g.parse(sentence)"
   ]
  },
  {
   "cell_type": "code",
   "execution_count": 13,
   "metadata": {},
   "outputs": [
    {
     "name": "stdout",
     "output_type": "stream",
     "text": [
      "tarihi bir roman lar oku dum\n",
      "Given sentence is gramatically INCORRECT\n"
     ]
    }
   ],
   "source": [
    "sentence = 'tarihi bir roman lar oku dum'\n",
    "print(sentence)\n",
    "g.parse(sentence)"
   ]
  },
  {
   "cell_type": "code",
   "execution_count": 14,
   "metadata": {
    "scrolled": true
   },
   "outputs": [
    {
     "name": "stdout",
     "output_type": "stream",
     "text": [
      "tarihi roman lar oku dum\n",
      "Given sentence is gramatically CORRECT\n",
      "Number of possible trees: 1\n",
      "\n",
      "--------------  --------------  ------  -----------  ---------\n",
      "['S']\n",
      "['S17', 'S18']  ['S']\n",
      "['NP']          ['S17', 'S18']  []\n",
      "['NP', 'NP25']  ['NP']          []      ['VPPAST1']\n",
      "['ADJ']         ['N', 'NP']     ['PL']  ['V', 'VP']  ['PAST1']\n",
      "tarihi          roman           lar     oku          dum\n",
      "--------------  --------------  ------  -----------  ---------\n",
      "\n"
     ]
    }
   ],
   "source": [
    "sentence = 'tarihi roman lar oku dum'\n",
    "print(sentence)\n",
    "g.parse(sentence)\n",
    "g.print_parsed_table()"
   ]
  },
  {
   "cell_type": "code",
   "execution_count": 15,
   "metadata": {},
   "outputs": [
    {
     "name": "stdout",
     "output_type": "stream",
     "text": [
      "tarihi bir roman oku dum\n",
      "Given sentence is gramatically CORRECT\n",
      "Number of possible trees: 1\n"
     ]
    }
   ],
   "source": [
    "sentence = 'tarihi bir roman oku dum'\n",
    "print(sentence)\n",
    "g.parse(sentence)"
   ]
  },
  {
   "cell_type": "code",
   "execution_count": 16,
   "metadata": {},
   "outputs": [
    {
     "name": "stdout",
     "output_type": "stream",
     "text": [
      "sen şimdi keyifle roman oku yor sun\n",
      "Given sentence is gramatically CORRECT\n",
      "Number of possible trees: 1\n"
     ]
    }
   ],
   "source": [
    "sentence = 'sen şimdi keyifle roman oku yor sun'\n",
    "print(sentence)\n",
    "g.parse(sentence)"
   ]
  },
  {
   "cell_type": "code",
   "execution_count": 17,
   "metadata": {},
   "outputs": [
    {
     "name": "stdout",
     "output_type": "stream",
     "text": [
      "akşam yemeği için yardım et dim\n",
      "Given sentence is gramatically CORRECT\n",
      "Number of possible trees: 6\n"
     ]
    }
   ],
   "source": [
    "sentence = 'akşam yemeği için yardım et dim'\n",
    "print(sentence)\n",
    "g.parse(sentence)"
   ]
  },
  {
   "cell_type": "code",
   "execution_count": 18,
   "outputs": [
    {
     "name": "stdout",
     "output_type": "stream",
     "text": [
      "dün arkadaşıma hediye ler al dım\n",
      "Given sentence is gramatically INCORRECT\n"
     ]
    }
   ],
   "source": [
    "sentence = 'dün arkadaşıma hediye ler al dım'\n",
    "print(sentence)\n",
    "g.parse(sentence)"
   ],
   "metadata": {
    "collapsed": false,
    "pycharm": {
     "name": "#%%\n"
    }
   }
  },
  {
   "cell_type": "code",
   "execution_count": 19,
   "outputs": [
    {
     "name": "stdout",
     "output_type": "stream",
     "text": [
      "yüksek sesle müzik dinle me\n",
      "Given sentence is gramatically CORRECT\n",
      "Number of possible trees: 1\n"
     ]
    }
   ],
   "source": [
    "sentence = 'yüksek sesle müzik dinle me'\n",
    "print(sentence)\n",
    "g.parse(sentence)"
   ],
   "metadata": {
    "collapsed": false,
    "pycharm": {
     "name": "#%%\n"
    }
   }
  },
  {
   "cell_type": "code",
   "execution_count": 20,
   "metadata": {},
   "outputs": [
    {
     "name": "stdout",
     "output_type": "stream",
     "text": [
      "destan lar milli kültürümüzü ve tarihimizi anlat ır\n",
      "Given sentence is gramatically CORRECT\n",
      "Number of possible trees: 1\n"
     ]
    }
   ],
   "source": [
    "sentence = 'destan lar milli kültürümüzü ve tarihimizi anlat ır'\n",
    "print(sentence)\n",
    "g.parse(sentence)"
   ]
  },
  {
   "cell_type": "code",
   "execution_count": 21,
   "outputs": [
    {
     "name": "stdout",
     "output_type": "stream",
     "text": [
      "siz buraya en son ne zaman gel diniz\n",
      "Given sentence is gramatically CORRECT\n",
      "Number of possible trees: 1\n"
     ]
    }
   ],
   "source": [
    "sentence = 'siz buraya en son ne zaman gel diniz'\n",
    "print(sentence)\n",
    "g.parse(sentence)"
   ],
   "metadata": {
    "collapsed": false,
    "pycharm": {
     "name": "#%%\n"
    }
   }
  },
  {
   "cell_type": "code",
   "execution_count": 22,
   "outputs": [
    {
     "name": "stdout",
     "output_type": "stream",
     "text": [
      "okul bizim köye epey uzak dı\n",
      "Given sentence is gramatically CORRECT\n",
      "Number of possible trees: 4\n"
     ]
    }
   ],
   "source": [
    "sentence = 'okul bizim köye epey uzak dı'\n",
    "print(sentence)\n",
    "g.parse(sentence)"
   ],
   "metadata": {
    "collapsed": false,
    "pycharm": {
     "name": "#%%\n"
    }
   }
  },
  {
   "cell_type": "code",
   "execution_count": 23,
   "outputs": [
    {
     "name": "stdout",
     "output_type": "stream",
     "text": [
      "\n",
      "--------------------------------------  -------------------  -----------  -------  -------  ---------\n",
      "['S', 'S', 'S', 'S']\n",
      "['S20', 'S20', 'S20', 'S20']            ['S', 'S']\n",
      "['S20', 'S20', 'S20', 'S20']            ['S20', 'S20']       ['S']\n",
      "['NP', 'NP', 'NP', 'S19', 'NP', 'S19']  ['S20', 'S20']       ['S20']      []\n",
      "['NP', 'NP', 'S19']                     ['NP', 'NP', 'S19']  ['S20']      ['ADJ']  []\n",
      "['N', 'NP']                             ['N', 'NP']          ['N', 'NP']  ['ADJ']  ['ADJ']  ['PAST3']\n",
      "okul                                    bizim                köye         epey     uzak     dı\n",
      "--------------------------------------  -------------------  -----------  -------  -------  ---------\n",
      "\n"
     ]
    }
   ],
   "source": [
    "g.print_parsed_table()"
   ],
   "metadata": {
    "collapsed": false,
    "pycharm": {
     "name": "#%%\n"
    }
   }
  },
  {
   "cell_type": "code",
   "execution_count": 23,
   "metadata": {},
   "outputs": [],
   "source": []
  }
 ],
 "metadata": {
  "kernelspec": {
   "display_name": "Python 3",
   "language": "python",
   "name": "python3"
  },
  "language_info": {
   "codemirror_mode": {
    "name": "ipython",
    "version": 3
   },
   "file_extension": ".py",
   "mimetype": "text/x-python",
   "name": "python",
   "nbconvert_exporter": "python",
   "pygments_lexer": "ipython3",
   "version": "3.7.9"
  }
 },
 "nbformat": 4,
 "nbformat_minor": 4
}