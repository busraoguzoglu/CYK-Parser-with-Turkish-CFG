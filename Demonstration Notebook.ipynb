{
 "cells": [
  {
   "cell_type": "code",
   "execution_count": 1,
   "metadata": {},
   "outputs": [],
   "source": [
    "import pandas as pd\n",
    "from sklearn import metrics\n",
    "\n",
    "from CYK_Parser import CYKParser\n",
    "\n",
    "def all_metrics_together(y, y_hat, average = 'micro'):\n",
    "    accuracy = metrics.accuracy_score(y, y_hat)\n",
    "    recall = metrics.recall_score(y, y_hat, average = average)\n",
    "    precision = metrics.precision_score(y, y_hat, average = average)\n",
    "    f1 = metrics.f1_score(y, y_hat, average = average)\n",
    "\n",
    "    df = pd.DataFrame({'Accuracy': accuracy, 'Recall': recall, 'Precision': precision, 'F1': f1}, index = ['Score'])\n",
    "    return df"
   ]
  },
  {
   "cell_type": "code",
   "execution_count": 2,
   "metadata": {},
   "outputs": [
    {
     "data": {
      "text/html": [
       "<div>\n",
       "<style scoped>\n",
       "    .dataframe tbody tr th:only-of-type {\n",
       "        vertical-align: middle;\n",
       "    }\n",
       "\n",
       "    .dataframe tbody tr th {\n",
       "        vertical-align: top;\n",
       "    }\n",
       "\n",
       "    .dataframe thead th {\n",
       "        text-align: right;\n",
       "    }\n",
       "</style>\n",
       "<table border=\"1\" class=\"dataframe\">\n",
       "  <thead>\n",
       "    <tr style=\"text-align: right;\">\n",
       "      <th></th>\n",
       "      <th>Accuracy</th>\n",
       "      <th>Recall</th>\n",
       "      <th>Precision</th>\n",
       "      <th>F1</th>\n",
       "    </tr>\n",
       "  </thead>\n",
       "  <tbody>\n",
       "    <tr>\n",
       "      <th>Score</th>\n",
       "      <td>0.5</td>\n",
       "      <td>0.5</td>\n",
       "      <td>0.5</td>\n",
       "      <td>0.5</td>\n",
       "    </tr>\n",
       "  </tbody>\n",
       "</table>\n",
       "</div>"
      ],
      "text/plain": [
       "       Accuracy  Recall  Precision   F1\n",
       "Score       0.5     0.5        0.5  0.5"
      ]
     },
     "execution_count": 2,
     "metadata": {},
     "output_type": "execute_result"
    }
   ],
   "source": [
    "all_metrics_together(['b', 'b', 'b', 'a'], ['a', 'b', 'c', 'a'])"
   ]
  },
  {
   "cell_type": "markdown",
   "metadata": {},
   "source": [
    "### CYK Parser"
   ]
  },
  {
   "cell_type": "markdown",
   "metadata": {},
   "source": [
    "### Example Sentences for Syntax Based Agreement Phenomena"
   ]
  },
  {
   "cell_type": "code",
   "execution_count": 3,
   "metadata": {},
   "outputs": [],
   "source": [
    "g = CYKParser('Grammar/turkish_grammar_with_morphology_v3.txt')"
   ]
  },
  {
   "cell_type": "code",
   "execution_count": 4,
   "metadata": {
    "scrolled": false
   },
   "outputs": [
    {
     "name": "stdout",
     "output_type": "stream",
     "text": [
      "Given sentence is gramatically CORRECT\n",
      "ben gel dim\n",
      "['PRO1', 'VP', 'PAST1']\n"
     ]
    }
   ],
   "source": [
    "sentence = 'ben gel dim'\n",
    "g.parse(sentence)"
   ]
  },
  {
   "cell_type": "code",
   "execution_count": 5,
   "metadata": {},
   "outputs": [
    {
     "name": "stdout",
     "output_type": "stream",
     "text": [
      "Given sentence is gramatically INCORRECT\n"
     ]
    }
   ],
   "source": [
    "sentence = 'sen gel dim'\n",
    "g.parse(sentence)"
   ]
  },
  {
   "cell_type": "code",
   "execution_count": 6,
   "metadata": {},
   "outputs": [
    {
     "name": "stdout",
     "output_type": "stream",
     "text": [
      "Given sentence is gramatically INCORRECT\n"
     ]
    }
   ],
   "source": [
    "sentence = 'ben gel din'\n",
    "g.parse(sentence)"
   ]
  },
  {
   "cell_type": "code",
   "execution_count": 7,
   "metadata": {},
   "outputs": [
    {
     "name": "stdout",
     "output_type": "stream",
     "text": [
      "Given sentence is gramatically CORRECT\n",
      "sen gel din\n",
      "['PRO2', 'VP', 'PAST2']\n"
     ]
    }
   ],
   "source": [
    "sentence = 'sen gel din'\n",
    "g.parse(sentence)"
   ]
  },
  {
   "cell_type": "code",
   "execution_count": 8,
   "metadata": {},
   "outputs": [
    {
     "name": "stdout",
     "output_type": "stream",
     "text": [
      "Given sentence is gramatically CORRECT\n",
      "ben roman oku dum\n",
      "['PRO1', 'NP', 'VP', 'PAST1']\n"
     ]
    }
   ],
   "source": [
    "sentence = 'ben roman oku dum'\n",
    "g.parse(sentence)"
   ]
  },
  {
   "cell_type": "code",
   "execution_count": 9,
   "metadata": {},
   "outputs": [
    {
     "name": "stdout",
     "output_type": "stream",
     "text": [
      "Given sentence is gramatically CORRECT\n",
      "sen roman oku dum\n",
      "['PRO2', 'NP', 'VP', 'PAST1']\n"
     ]
    }
   ],
   "source": [
    "sentence = 'sen roman oku dum'\n",
    "g.parse(sentence)"
   ]
  },
  {
   "cell_type": "code",
   "execution_count": 10,
   "metadata": {
    "pycharm": {
     "name": "#%%\n"
    }
   },
   "outputs": [
    {
     "name": "stdout",
     "output_type": "stream",
     "text": [
      "Given sentence is gramatically CORRECT\n",
      "ben kitap oku du\n",
      "['PRO1', 'NP', 'VP', 'PAST3']\n"
     ]
    }
   ],
   "source": [
    "sentence = 'ben kitap oku du'\n",
    "g.parse(sentence)"
   ]
  },
  {
   "cell_type": "code",
   "execution_count": 11,
   "metadata": {
    "pycharm": {
     "name": "#%%\n"
    }
   },
   "outputs": [
    {
     "name": "stdout",
     "output_type": "stream",
     "text": [
      "Given sentence is gramatically CORRECT\n",
      "ben arkadaşıma hediye al dı\n",
      "['PRO1', 'NP', 'NP', 'VP', 'PAST3']\n"
     ]
    }
   ],
   "source": [
    "sentence = 'ben arkadaşıma hediye al dı'\n",
    "g.parse(sentence)"
   ]
  },
  {
   "cell_type": "code",
   "execution_count": 12,
   "metadata": {
    "pycharm": {
     "name": "#%%\n"
    }
   },
   "outputs": [
    {
     "name": "stdout",
     "output_type": "stream",
     "text": [
      "Given sentence is gramatically CORRECT\n",
      "arkadaşıma hediye al dı\n",
      "['NP', 'NP', 'VP', 'PAST3']\n"
     ]
    }
   ],
   "source": [
    "sentence = 'arkadaşıma hediye al dı'\n",
    "g.parse(sentence)"
   ]
  },
  {
   "cell_type": "markdown",
   "metadata": {},
   "source": [
    "### Example Sentences for Semantic Based Agreement Phenomena"
   ]
  },
  {
   "cell_type": "code",
   "execution_count": 13,
   "metadata": {
    "pycharm": {
     "name": "#%%\n"
    }
   },
   "outputs": [
    {
     "name": "stdout",
     "output_type": "stream",
     "text": [
      "Given sentence is gramatically CORRECT\n",
      "ben okul a git dim\n",
      "['PRO1', 'NP', 'PREPA', 'VTYPE2', 'PAST1']\n"
     ]
    }
   ],
   "source": [
    "sentence = 'ben okul a git dim'\n",
    "g.parse(sentence)"
   ]
  },
  {
   "cell_type": "code",
   "execution_count": 14,
   "metadata": {
    "pycharm": {
     "name": "#%%\n"
    }
   },
   "outputs": [
    {
     "name": "stdout",
     "output_type": "stream",
     "text": [
      "Given sentence is gramatically INCORRECT\n"
     ]
    }
   ],
   "source": [
    "sentence = 'ben okul da git dim'\n",
    "g.parse(sentence)"
   ]
  },
  {
   "cell_type": "code",
   "execution_count": 15,
   "metadata": {
    "pycharm": {
     "name": "#%%\n"
    }
   },
   "outputs": [
    {
     "name": "stdout",
     "output_type": "stream",
     "text": [
      "Given sentence is gramatically INCORRECT\n"
     ]
    }
   ],
   "source": [
    "sentence = 'ben okul git dim'\n",
    "g.parse(sentence)"
   ]
  },
  {
   "cell_type": "code",
   "execution_count": 16,
   "metadata": {
    "pycharm": {
     "name": "#%%\n"
    }
   },
   "outputs": [
    {
     "name": "stdout",
     "output_type": "stream",
     "text": [
      "Given sentence is gramatically CORRECT\n",
      "ben okul da öğren dim\n",
      "['PRO1', 'NP', 'PREPDA', 'VTYPE3', 'PAST1']\n"
     ]
    }
   ],
   "source": [
    "sentence = 'ben okul da öğren dim'\n",
    "g.parse(sentence)"
   ]
  },
  {
   "cell_type": "code",
   "execution_count": 17,
   "metadata": {
    "pycharm": {
     "name": "#%%\n"
    }
   },
   "outputs": [
    {
     "name": "stdout",
     "output_type": "stream",
     "text": [
      "Given sentence is gramatically INCORRECT\n"
     ]
    }
   ],
   "source": [
    "sentence = 'ben okul a öğren dim'\n",
    "g.parse(sentence)"
   ]
  },
  {
   "cell_type": "code",
   "execution_count": 18,
   "metadata": {
    "pycharm": {
     "name": "#%%\n"
    }
   },
   "outputs": [
    {
     "name": "stdout",
     "output_type": "stream",
     "text": [
      "Given sentence is gramatically CORRECT\n",
      "ben dün gel dim\n",
      "['PRO1', 'PASTNOUN', 'VP', 'PAST1']\n"
     ]
    }
   ],
   "source": [
    "sentence = 'ben dün gel dim'\n",
    "g.parse(sentence)"
   ]
  },
  {
   "cell_type": "code",
   "execution_count": 19,
   "metadata": {
    "pycharm": {
     "name": "#%%\n"
    }
   },
   "outputs": [
    {
     "name": "stdout",
     "output_type": "stream",
     "text": [
      "Given sentence is gramatically INCORRECT\n"
     ]
    }
   ],
   "source": [
    "sentence = 'ben yarın gel dim'\n",
    "g.parse(sentence)"
   ]
  },
  {
   "cell_type": "code",
   "execution_count": 20,
   "metadata": {
    "pycharm": {
     "name": "#%%\n"
    }
   },
   "outputs": [
    {
     "name": "stdout",
     "output_type": "stream",
     "text": [
      "Given sentence is gramatically CORRECT\n",
      "tarihi bir roman lar oku dum\n",
      "['ADJ', 'SING', 'NP', 'PL', 'VP', 'PAST1']\n"
     ]
    }
   ],
   "source": [
    "sentence = 'tarihi bir roman lar oku dum'\n",
    "g.parse(sentence)"
   ]
  },
  {
   "cell_type": "code",
   "execution_count": 21,
   "metadata": {
    "pycharm": {
     "name": "#%%\n"
    }
   },
   "outputs": [
    {
     "name": "stdout",
     "output_type": "stream",
     "text": [
      "Given sentence is gramatically CORRECT\n",
      "tarihi roman lar oku dum\n",
      "['ADJ', 'NP', 'PL', 'VP', 'PAST1']\n"
     ]
    }
   ],
   "source": [
    "sentence = 'tarihi roman lar oku dum'\n",
    "g.parse(sentence)"
   ]
  },
  {
   "cell_type": "code",
   "execution_count": 22,
   "metadata": {
    "pycharm": {
     "name": "#%%\n"
    }
   },
   "outputs": [
    {
     "name": "stdout",
     "output_type": "stream",
     "text": [
      "Given sentence is gramatically CORRECT\n",
      "tarihi bir roman oku dum\n",
      "['ADJ', 'SING', 'NP', 'VP', 'PAST1']\n"
     ]
    }
   ],
   "source": [
    "sentence = 'tarihi bir roman oku dum'\n",
    "g.parse(sentence)"
   ]
  },
  {
   "cell_type": "markdown",
   "metadata": {},
   "source": [
    "### Example Sentences for Metric Calculation"
   ]
  },
  {
   "cell_type": "code",
   "execution_count": 23,
   "metadata": {
    "pycharm": {
     "name": "#%%\n"
    }
   },
   "outputs": [
    {
     "name": "stdout",
     "output_type": "stream",
     "text": [
      "Given sentence is gramatically CORRECT\n",
      "karpuz en güzel meyve dir\n",
      "['NP', 'ADJ', 'ADJ', 'NP', 'PREPART']\n",
      "\n",
      "------  ---------------  ---------------  ------  -----------\n",
      "['S']\n",
      "['NP']  ['S']\n",
      "[]      ['ADJNP', 'NP']  ['S']\n",
      "[]      ['ADJ']          ['ADJNP', 'NP']  ['S']\n",
      "['NP']  ['ADJ']          ['ADJ']          ['NP']  ['PREPART']\n",
      "karpuz  en               güzel            meyve   dir\n",
      "------  ---------------  ---------------  ------  -----------\n",
      "\n"
     ]
    }
   ],
   "source": [
    "sentence = 'karpuz en güzel meyve dir'\n",
    "g.parse(sentence)\n",
    "g.print_parsed_table()"
   ]
  },
  {
   "cell_type": "code",
   "execution_count": 24,
   "metadata": {
    "pycharm": {
     "name": "#%%\n"
    }
   },
   "outputs": [
    {
     "name": "stdout",
     "output_type": "stream",
     "text": [
      "Given sentence is gramatically CORRECT\n",
      "okul bizim köye epey uzak dı\n",
      "['NP', 'NP', 'NP', 'ADJ', 'ADJ', 'PAST3']\n",
      "\n",
      "------  ------  ------  -----------  -----------  --------\n",
      "['S']\n",
      "[]      ['S']\n",
      "[]      []      ['S']\n",
      "['NP']  []      []      ['ADJPAST']\n",
      "['NP']  ['NP']  []      ['ADJ']      ['ADJPAST']\n",
      "['NP']  ['NP']  ['NP']  ['ADJ']      ['ADJ']      ['PAST']\n",
      "okul    bizim   köye    epey         uzak         dı\n",
      "------  ------  ------  -----------  -----------  --------\n",
      "\n"
     ]
    }
   ],
   "source": [
    "sentence = 'okul bizim köye epey uzak dı'\n",
    "g.parse(sentence)\n",
    "g.print_parsed_table()"
   ]
  },
  {
   "cell_type": "code",
   "execution_count": 25,
   "metadata": {
    "pycharm": {
     "name": "#%%\n"
    }
   },
   "outputs": [
    {
     "name": "stdout",
     "output_type": "stream",
     "text": [
      "Given sentence is gramatically CORRECT\n",
      "destan lar milli kültürümüzü ve tarihimizi güzelce anlat ır\n",
      "['NP', 'PL', 'NP', 'NP', 'PP', 'NP', 'ADV', 'VP', 'PREPART']\n",
      "\n",
      "--------------  ------------  --------  -----------  ------  ----------  -------------  -------------  -----------\n",
      "['S']\n",
      "['NPVP']        []\n",
      "[]              []            ['S']\n",
      "['NP']          []            ['NPVP']  ['S']\n",
      "['NP']          []            []        ['NPVP']     []\n",
      "['NP']          []            ['NP']    []           []      ['S']\n",
      "['NP']          []            ['NP']    ['NP']       []      ['NPVP']    ['VPPREPART']\n",
      "['NP', 'NPPL']  []            ['NP']    ['NP']       []      []          ['VP']         ['VPPREPART']\n",
      "['NP']          ['POSPROPL']  ['NP']    ['NP']       ['PP']  ['NP']      ['ADV']        ['VP']         ['PREPART']\n",
      "destan          lar           milli     kültürümüzü  ve      tarihimizi  güzelce        anlat          ır\n",
      "--------------  ------------  --------  -----------  ------  ----------  -------------  -------------  -----------\n",
      "\n"
     ]
    }
   ],
   "source": [
    "sentence = 'destan lar milli kültürümüzü ve tarihimizi güzelce anlat ır'\n",
    "g.parse(sentence)\n",
    "g.print_parsed_table()"
   ]
  },
  {
   "cell_type": "code",
   "execution_count": 26,
   "metadata": {
    "pycharm": {
     "name": "#%%\n"
    }
   },
   "outputs": [
    {
     "name": "stdout",
     "output_type": "stream",
     "text": [
      "Given sentence is gramatically CORRECT\n",
      "siz buraya en son ne zaman gel diniz\n",
      "['PROPL2', 'NP', 'ADJ', 'NP', 'Q', 'NP', 'VP', 'PASTPL2']\n",
      "\n",
      "---------  --------------  ---------------  --------------  ------------  --------------  ------------  ----------\n",
      "['S']\n",
      "[]         ['NPVPPASTPL']\n",
      "[]         ['NPVP']        ['NPVPPASTPL']\n",
      "[]         []              ['NPVP']         ['NPVPPASTPL']\n",
      "[]         []              []               ['NPVP']        ['VPPASTPL']\n",
      "[]         ['NP']          []               []              ['VP']        ['NPVPPASTPL']\n",
      "[]         []              ['ADJNP', 'NP']  []              ['QP']        ['NPVP']        ['VPPASTPL']\n",
      "['PROPL']  ['NP']          ['ADJ']          ['NP']          ['Q']         ['NP']          ['VP']        ['PASTPL']\n",
      "siz        buraya          en               son             ne            zaman           gel           diniz\n",
      "---------  --------------  ---------------  --------------  ------------  --------------  ------------  ----------\n",
      "\n"
     ]
    }
   ],
   "source": [
    "sentence = 'siz buraya en son ne zaman gel diniz'\n",
    "g.parse(sentence)\n",
    "g.print_parsed_table()"
   ]
  },
  {
   "cell_type": "code",
   "execution_count": 27,
   "metadata": {
    "pycharm": {
     "name": "#%%\n"
    }
   },
   "outputs": [
    {
     "name": "stdout",
     "output_type": "stream",
     "text": [
      "Given sentence is gramatically CORRECT\n",
      "sen şimdi keyifle roman oku yor sun\n",
      "['PRO2', 'PRENOUN', 'ADV', 'NP', 'VP', 'PRE', 'POSPRO2']\n",
      "\n",
      "-------  ----------------  ---------  --------  ---------  -------------  ----------\n",
      "['S']\n",
      "[]       ['PRENOUNVPPRE']\n",
      "[]       ['PRENOUNVPPRE']  ['VPPRE']\n",
      "[]       []                ['VPPRE']  []\n",
      "[]       []                ['VP']     []        ['VPPRE']\n",
      "[]       []                []         ['NPVP']  ['VPPRE']  ['PREPOSPRO']\n",
      "['PRO']  ['PRENOUN']       ['ADV']    ['NP']    ['VTYPE']  ['PRE']        ['POSPRO']\n",
      "sen      şimdi             keyifle    roman     oku        yor            sun\n",
      "-------  ----------------  ---------  --------  ---------  -------------  ----------\n",
      "\n"
     ]
    }
   ],
   "source": [
    "sentence = 'sen şimdi keyifle roman oku yor sun'\n",
    "g.parse(sentence)\n",
    "g.print_parsed_table()"
   ]
  },
  {
   "cell_type": "code",
   "execution_count": 28,
   "metadata": {
    "pycharm": {
     "name": "#%%\n"
    }
   },
   "outputs": [
    {
     "name": "stdout",
     "output_type": "stream",
     "text": [
      "Given sentence is gramatically CORRECT\n",
      "akşam yemeği için yardım et dim\n",
      "['NP', 'NP', 'PP', 'NP', 'VP', 'PAST1']\n",
      "\n",
      "---------------------------  ---------------------------  ------------  ---------------------------  ----------  --------\n",
      "['NPVPPAST', 'S', 'VPPAST']\n",
      "['NPVP']                     ['NPVPPAST', 'S', 'VPPAST']\n",
      "['NP']                       ['NPVP']                     ['PPVPPAST']\n",
      "['NP']                       ['NP']                       []            ['NPVPPAST', 'S', 'VPPAST']\n",
      "['NP']                       ['NP']                       []            ['NPVP']                     ['VPPAST']\n",
      "['NP']                       ['NP']                       ['PP']        ['NP']                       ['VP']      ['PAST']\n",
      "akşam                        yemeği                       için          yardım                       et          dim\n",
      "---------------------------  ---------------------------  ------------  ---------------------------  ----------  --------\n",
      "\n"
     ]
    }
   ],
   "source": [
    "sentence = 'akşam yemeği için yardım et dim'\n",
    "g.parse(sentence)\n",
    "g.print_parsed_table()"
   ]
  },
  {
   "cell_type": "code",
   "execution_count": 29,
   "metadata": {
    "pycharm": {
     "name": "#%%\n"
    }
   },
   "outputs": [
    {
     "name": "stdout",
     "output_type": "stream",
     "text": [
      "Given sentence is gramatically CORRECT\n",
      "yüksek sesle müzik dinle me\n",
      "['ADJ', 'NP', 'NP', 'VP', 'IMP']\n",
      "\n",
      "---------------  --------  --------  ---------  -------\n",
      "['S']\n",
      "['NPVP']         ['S']\n",
      "['ADJNP', 'NP']  ['NPVP']  ['S']\n",
      "['ADJNP', 'NP']  ['NP']    ['NPVP']  ['VPIMP']\n",
      "['ADJ']          ['NP']    ['NP']    ['VP']     ['IMP']\n",
      "yüksek           sesle     müzik     dinle      me\n",
      "---------------  --------  --------  ---------  -------\n",
      "\n"
     ]
    }
   ],
   "source": [
    "sentence = 'yüksek sesle müzik dinle me'\n",
    "g.parse(sentence)\n",
    "g.print_parsed_table()"
   ]
  },
  {
   "cell_type": "code",
   "execution_count": 30,
   "metadata": {
    "pycharm": {
     "name": "#%%\n"
    }
   },
   "outputs": [
    {
     "name": "stdout",
     "output_type": "stream",
     "text": [
      "Given sentence is gramatically CORRECT\n",
      "arkadaşıma hediye ler al dım\n",
      "['NP', 'NP', 'PL', 'VP', 'PAST1']\n",
      "\n",
      "---------------------------  ---------------------------  ------  ----------  --------\n",
      "['NPVPPAST', 'S', 'VPPAST']\n",
      "['NPVP']                     ['NPVPPAST', 'S', 'VPPAST']\n",
      "['NP', 'NPPL']               ['NPVP']                     []\n",
      "['NP']                       ['NP', 'NPPL']               []      ['VPPAST']\n",
      "['NP']                       ['NP']                       ['PL']  ['VP']      ['PAST']\n",
      "arkadaşıma                   hediye                       ler     al          dım\n",
      "---------------------------  ---------------------------  ------  ----------  --------\n",
      "\n"
     ]
    }
   ],
   "source": [
    "sentence = 'arkadaşıma hediye ler al dım'\n",
    "g.parse(sentence)\n",
    "g.print_parsed_table()"
   ]
  },
  {
   "cell_type": "code",
   "execution_count": 31,
   "metadata": {
    "pycharm": {
     "name": "#%%\n"
    }
   },
   "outputs": [
    {
     "name": "stdout",
     "output_type": "stream",
     "text": [
      "Given sentence is gramatically CORRECT\n",
      "ben yarın gel ecek im\n",
      "['PRO1', 'FUTNOUN', 'VP', 'FUT', 'POSPRO1']\n",
      "\n",
      "-------  ----------------  ---------  -------------  ----------\n",
      "['S']\n",
      "[]       ['FUTNOUNVPFUT']\n",
      "[]       ['FUTNOUNVPFUT']  ['VPFUT']\n",
      "[]       []                ['VPFUT']  ['FUTPOSPRO']\n",
      "['PRO']  ['FUTNOUN']       ['VP']     ['FUT']        ['POSPRO']\n",
      "ben      yarın             gel        ecek           im\n",
      "-------  ----------------  ---------  -------------  ----------\n",
      "\n"
     ]
    }
   ],
   "source": [
    "sentence = 'ben yarın gel ecek im'\n",
    "g.parse(sentence)\n",
    "g.print_parsed_table()"
   ]
  },
  {
   "cell_type": "code",
   "execution_count": 32,
   "metadata": {
    "pycharm": {
     "name": "#%%\n"
    },
    "scrolled": true
   },
   "outputs": [
    {
     "name": "stdout",
     "output_type": "stream",
     "text": [
      "Given sentence is gramatically CORRECT\n",
      "bu akşamki toplantıya katıl acak mı sınız\n",
      "['ADJ', 'NP', 'NP', 'VP', 'FUT', 'Q', 'POSPROPL2']\n",
      "\n",
      "---------------  -----------  -----------  ---------  -------  -------------  ------------\n",
      "['S']\n",
      "[]               ['S']\n",
      "['NPVPFUT']      []           ['S']\n",
      "['NPVP']         ['NPVPFUT']  []           []\n",
      "['ADJNP', 'NP']  ['NPVP']     ['NPVPFUT']  []         []\n",
      "['ADJNP', 'NP']  ['NP']       ['NPVP']     ['VPFUT']  []       ['QPOSPROPL']\n",
      "['ADJ']          ['NP']       ['NP']       ['VP']     ['FUT']  ['Q']          ['POSPROPL']\n",
      "bu               akşamki      toplantıya   katıl      acak     mı             sınız\n",
      "---------------  -----------  -----------  ---------  -------  -------------  ------------\n",
      "\n"
     ]
    }
   ],
   "source": [
    "sentence = 'bu akşamki toplantıya katıl acak mı sınız'\n",
    "g.parse(sentence)\n",
    "g.print_parsed_table()"
   ]
  },
  {
   "cell_type": "code",
   "execution_count": 33,
   "metadata": {},
   "outputs": [
    {
     "data": {
      "text/plain": [
       "{'ADJ ADJ': ['ADJ'],\n",
       " 'bu': ['ADJ'],\n",
       " 'en': ['ADJ'],\n",
       " 'epey': ['ADJ'],\n",
       " 'güzel': ['ADJ'],\n",
       " 'tarihi': ['ADJ'],\n",
       " 'uzak': ['ADJ'],\n",
       " 'yüksek': ['ADJ'],\n",
       " 'ADJ NP': ['ADJNP', 'NP'],\n",
       " 'ADJ PAST3': ['ADJPAST3'],\n",
       " 'ADJ PREPART': ['ADJPREPART'],\n",
       " 'güzelce': ['ADV'],\n",
       " 'keyifle': ['ADV'],\n",
       " 'acak': ['FUT'],\n",
       " 'ecek': ['FUT'],\n",
       " 'yarın': ['FUTNOUN'],\n",
       " 'FUTNOUN VPFUT1': ['FUTNOUNVPFUT1'],\n",
       " 'FUTNOUN VPFUT2': ['FUTNOUNVPFUT2'],\n",
       " 'FUTNOUN VPFUT3': ['FUTNOUNVPFUT3'],\n",
       " 'FUT POSPRO1': ['FUTPOSPRO1'],\n",
       " 'FUT POSPRO2': ['FUTPOSPRO2'],\n",
       " 'ma': ['IMP'],\n",
       " 'me': ['IMP'],\n",
       " 'ADJ NPPL': ['NP'],\n",
       " 'ADJ SINGNP': ['NP'],\n",
       " 'ADJNP PL': ['NP'],\n",
       " 'NP NP': ['NP'],\n",
       " 'NP PL': ['NP', 'NPPL'],\n",
       " 'NP PP': ['NP'],\n",
       " 'SING ADJNP': ['NP'],\n",
       " 'SING NP': ['NP', 'SINGNP'],\n",
       " 'akşam': ['NP'],\n",
       " 'akşamki': ['NP'],\n",
       " 'anneme': ['NP'],\n",
       " 'arkadaşıma': ['NP'],\n",
       " 'bizim': ['NP'],\n",
       " 'buraya': ['NP'],\n",
       " 'destan': ['NP'],\n",
       " 'hediye': ['NP'],\n",
       " 'kalem': ['NP'],\n",
       " 'karpuz': ['NP'],\n",
       " 'kitap': ['NP'],\n",
       " 'köye': ['NP'],\n",
       " 'kültürümüzü': ['NP'],\n",
       " 'meyve': ['NP'],\n",
       " 'milli': ['NP'],\n",
       " 'müzik': ['NP'],\n",
       " 'okul': ['NP'],\n",
       " 'roman': ['NP'],\n",
       " 'sesle': ['NP'],\n",
       " 'son': ['NP'],\n",
       " 'tarihimizi': ['NP'],\n",
       " 'toplantıya': ['NP'],\n",
       " 'yardım': ['NP'],\n",
       " 'yemeği': ['NP'],\n",
       " 'zaman': ['NP'],\n",
       " 'NP PAST3': ['NPPAST3', 'S'],\n",
       " 'NP POSPRO1': ['NPPOSPRO1'],\n",
       " 'NP POSPRO2': ['NPPOSPRO2'],\n",
       " 'NP POSPRO3': ['NPPOSPRO3'],\n",
       " 'NP VP': ['NPVP'],\n",
       " 'NP VPFUT3': ['NPVPFUT3'],\n",
       " 'NP VPPAST1': ['NPVPPAST1', 'S', 'VPPAST'],\n",
       " 'NP VPPAST2': ['NPVPPAST2', 'S', 'VPPAST'],\n",
       " 'NP VPPAST3': ['NPVPPAST3', 'S', 'VPPAST'],\n",
       " 'NP VPPASTPL2': ['NPVPPASTPL2'],\n",
       " 'dim': ['PAST1'],\n",
       " 'dum': ['PAST1'],\n",
       " 'dım': ['PAST1'],\n",
       " 'din': ['PAST2'],\n",
       " 'dun': ['PAST2'],\n",
       " 'di': ['PAST3'],\n",
       " 'du': ['PAST3'],\n",
       " 'dı': ['PAST3'],\n",
       " 'dün': ['PASTNOUN'],\n",
       " 'PASTNOUN VPPAST1': ['PASTNOUNVPPAST1'],\n",
       " 'PASTNOUN VPPAST2': ['PASTNOUNVPPAST2'],\n",
       " 'PASTNOUN VPPAST3': ['PASTNOUNVPPAST3'],\n",
       " 'dik': ['PASTPL1'],\n",
       " 'diniz': ['PASTPL2'],\n",
       " 'diler': ['PASTPL3'],\n",
       " 'lar': ['PL', 'POSPROPL3'],\n",
       " 'ler': ['PL'],\n",
       " 'im': ['POSPRO1'],\n",
       " 'um': ['POSPRO1'],\n",
       " 'in': ['POSPRO2'],\n",
       " 'sin': ['POSPRO2'],\n",
       " 'sun': ['POSPRO2'],\n",
       " 'nun': ['POSPRO3'],\n",
       " 'yız': ['POSPROPL1'],\n",
       " 'sınız': ['POSPROPL2'],\n",
       " 'ile': ['PP'],\n",
       " 'için': ['PP'],\n",
       " 've': ['PP'],\n",
       " 'PP VPPAST': ['PPVPPAST'],\n",
       " 'yor': ['PRE'],\n",
       " 'şimdi': ['PRENOUN'],\n",
       " 'PRENOUN VPPRE1': ['PRENOUNVPPRE1'],\n",
       " 'PRENOUN VPPRE2': ['PRENOUNVPPRE2'],\n",
       " 'PRENOUN VPPRE3': ['PRENOUNVPPRE3'],\n",
       " 'a': ['PREPA'],\n",
       " 'ar': ['PREPART'],\n",
       " 'dir': ['PREPART'],\n",
       " 'er': ['PREPART'],\n",
       " 'ir': ['PREPART'],\n",
       " 'ır': ['PREPART'],\n",
       " 'da': ['PREPDA'],\n",
       " 'PRE POSPRO1': ['PREPOSPRO1'],\n",
       " 'PRE POSPRO2': ['PREPOSPRO2'],\n",
       " 'PRO1 POSPRO1': ['PRO1'],\n",
       " 'PRO2 POSPRO2': ['PRO1'],\n",
       " 'PRO3 POSPRO3': ['PRO1'],\n",
       " 'ben': ['PRO1'],\n",
       " 'PRO1 NP': ['PRO1NP'],\n",
       " 'PRO1NP PREPA': ['PRO1NPPREPA'],\n",
       " 'PRO1NP PREPDA': ['PRO1NPPREPDA'],\n",
       " 'sen': ['PRO2'],\n",
       " 'o': ['PRO3'],\n",
       " 'biz': ['PROPL1'],\n",
       " 'siz': ['PROPL2'],\n",
       " 'onlar': ['PROPL3'],\n",
       " 'mi': ['Q'],\n",
       " 'mı': ['Q'],\n",
       " 'ne': ['Q'],\n",
       " 'Q NP': ['QP'],\n",
       " 'Q POSPROPL1': ['QPOSPROPL1'],\n",
       " 'Q POSPROPL2': ['QPOSPROPL2'],\n",
       " 'Q POSPROPL3': ['QPOSPROPL3'],\n",
       " 'NP ADJPAST3': ['S'],\n",
       " 'NP ADJPREPART': ['S'],\n",
       " 'NP NPPAST3': ['S'],\n",
       " 'NP PPVPPAST': ['S'],\n",
       " 'NP PREPART': ['S'],\n",
       " 'NP S': ['S'],\n",
       " 'NP VPIMP': ['S'],\n",
       " 'NP VPPAST': ['S'],\n",
       " 'NP VPPREPART': ['S'],\n",
       " 'NPVP IMP': ['S'],\n",
       " 'NPVP PREPART': ['S'],\n",
       " 'NPVPFUT3 QPOSPROPL1': ['S'],\n",
       " 'NPVPFUT3 QPOSPROPL2': ['S'],\n",
       " 'NPVPFUT3 QPOSPROPL3': ['S'],\n",
       " 'PRO1 FUTNOUNVPFUT1': ['S'],\n",
       " 'PRO1 NPPOSPRO1': ['S'],\n",
       " 'PRO1 NPVPPAST1': ['S'],\n",
       " 'PRO1 PASTNOUNVPPAST1': ['S'],\n",
       " 'PRO1 PRENOUNVPPRE1': ['S'],\n",
       " 'PRO1 S': ['S'],\n",
       " 'PRO1 VPPAST': ['S'],\n",
       " 'PRO1 VPPAST1': ['S'],\n",
       " 'PRO1 VPPRE1': ['S'],\n",
       " 'PRO1NP POSPRO1': ['S'],\n",
       " 'PRO1NP VPPAST1': ['S'],\n",
       " 'PRO1NPPREPA VTYPE2PAST1': ['S'],\n",
       " 'PRO1NPPREPDA VTYPE3PAST1': ['S'],\n",
       " 'PRO2 FUTNOUNVPFUT2': ['S'],\n",
       " 'PRO2 NPPOSPRO2': ['S'],\n",
       " 'PRO2 NPVPPAST2': ['S'],\n",
       " 'PRO2 PASTNOUNVPPAST2': ['S'],\n",
       " 'PRO2 PRENOUNVPPRE2': ['S'],\n",
       " 'PRO2 S': ['S'],\n",
       " 'PRO2 VPPAST': ['S'],\n",
       " 'PRO2 VPPAST2': ['S'],\n",
       " 'PRO2 VPPRE2': ['S'],\n",
       " 'PRO3 FUTNOUNVPFUT3': ['S'],\n",
       " 'PRO3 NPPOSPRO3': ['S'],\n",
       " 'PRO3 NPVPPAST3': ['S'],\n",
       " 'PRO3 PASTNOUNVPPAST3': ['S'],\n",
       " 'PRO3 PRENOUNVPPRE3': ['S'],\n",
       " 'PRO3 S': ['S'],\n",
       " 'PRO3 VPPAST': ['S'],\n",
       " 'PRO3 VPPAST3': ['S'],\n",
       " 'PRO3 VPPRE3': ['S'],\n",
       " 'PROPL2 NPVPPASTPL2': ['S'],\n",
       " 'PROPL2 VPPASTPL2': ['S'],\n",
       " 'bir': ['SING'],\n",
       " 'tek': ['SING'],\n",
       " 'ADV NPVP': ['VP'],\n",
       " 'ADV VP': ['VP'],\n",
       " 'QP VP': ['VP'],\n",
       " 'al': ['VP'],\n",
       " 'anlat': ['VP'],\n",
       " 'dinle': ['VP'],\n",
       " 'et': ['VP'],\n",
       " 'gel': ['VP'],\n",
       " 'katıl': ['VP'],\n",
       " 'oku': ['VP', 'VTYPE3'],\n",
       " 'VP FUTPOSPRO1': ['VPFUT1'],\n",
       " 'VPFUT3 POSPRO1': ['VPFUT1'],\n",
       " 'VP FUTPOSPRO2': ['VPFUT2'],\n",
       " 'VPFUT3 POSPRO2': ['VPFUT2'],\n",
       " 'VP FUT': ['VPFUT3'],\n",
       " 'VP IMP': ['VPIMP'],\n",
       " 'VP PAST1': ['VPPAST1'],\n",
       " 'VP PAST2': ['VPPAST2'],\n",
       " 'VP PAST3': ['VPPAST3'],\n",
       " 'VP PASTPL2': ['VPPASTPL2'],\n",
       " 'VP PREPOSPRO1': ['VPPRE1'],\n",
       " 'VPPRE3 POSPRO1': ['VPPRE1'],\n",
       " 'VP PREPOSPRO2': ['VPPRE2'],\n",
       " 'VPPRE3 POSPRO2': ['VPPRE2'],\n",
       " 'VP PRE': ['VPPRE3'],\n",
       " 'VP PREPART': ['VPPREPART'],\n",
       " 'git': ['VTYPE2'],\n",
       " 'VTYPE2 PAST1': ['VTYPE2PAST1'],\n",
       " 'öğren': ['VTYPE3'],\n",
       " 'VTYPE3 PAST1': ['VTYPE3PAST1']}"
      ]
     },
     "execution_count": 33,
     "metadata": {},
     "output_type": "execute_result"
    }
   ],
   "source": [
    "g.grammar_rules"
   ]
  },
  {
   "cell_type": "code",
   "execution_count": null,
   "metadata": {},
   "outputs": [],
   "source": []
  }
 ],
 "metadata": {
  "kernelspec": {
   "display_name": "Python 3",
   "language": "python",
   "name": "python3"
  },
  "language_info": {
   "codemirror_mode": {
    "name": "ipython",
    "version": 3
   },
   "file_extension": ".py",
   "mimetype": "text/x-python",
   "name": "python",
   "nbconvert_exporter": "python",
   "pygments_lexer": "ipython3",
   "version": "3.7.9"
  }
 },
 "nbformat": 4,
 "nbformat_minor": 4
}
