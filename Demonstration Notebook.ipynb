{
 "cells": [
  {
   "cell_type": "markdown",
   "metadata": {},
   "source": [
    "https://github.com/RobMcH/CYK-Parser"
   ]
  },
  {
   "cell_type": "markdown",
   "metadata": {},
   "source": [
    "https://github.com/ikergarcia1996/Basic-CYK-Parser"
   ]
  },
  {
   "cell_type": "markdown",
   "metadata": {},
   "source": [
    "https://github.com/denizzagli/Context-Free-Grammars-CFGs/blob/master/main.py"
   ]
  },
  {
   "cell_type": "markdown",
   "metadata": {},
   "source": [
    "### Actual Basic but non working great CYK Parser"
   ]
  },
  {
   "cell_type": "code",
   "execution_count": 1,
   "metadata": {},
   "outputs": [],
   "source": [
    "from our_CYK_parser import *"
   ]
  },
  {
   "cell_type": "code",
   "execution_count": 3,
   "metadata": {},
   "outputs": [
    {
     "name": "stdout",
     "output_type": "stream",
     "text": [
      "[['S', 'NP', 'VP'], ['S', 'S0', 'Q'], ['S0', 'NP', 'VP'], ['S', 'VP', 'Q'], ['NP', 'NP', 'NP'], ['NP', 'NP', 'P'], ['PP', 'P', 'NP'], ['VP', 'V', 'NP'], ['VP', 'PP', 'NP'], ['NP', 'işçiler'], ['NP', 'çatal'], ['NP', 'teleskop'], ['NP', 'hamburgeri'], ['NP', 'dün'], ['NP', 'arkadaşıma'], ['NP', 'hediye'], ['NP', 'romanları'], ['NP', 'ağır'], ['NP', 'ben'], ['NP', 'sen'], ['NP', 'biz'], ['VP', 'yediler'], ['VP', 'aldım'], ['VP', 'okuyorum'], ['VP', 'yürüyoruz']]\n"
     ]
    }
   ],
   "source": [
    "CYK = Parser('grammar_for_rob.txt')\n",
    "CYK2 = Parser('Grammar/turkish_grammar_for_rob.txt')\n",
    "CYK3 = Parser('Grammar/turkish_grammar_with_morphology.txt')\n",
    "\n",
    "print(CYK2.grammar)"
   ]
  },
  {
   "cell_type": "code",
   "execution_count": 4,
   "metadata": {},
   "outputs": [
    {
     "data": {
      "text/plain": [
       "[['S', 'NP', 'VP'],\n",
       " ['VP', 'NP', 'VP'],\n",
       " ['NP', 'PP', 'NP'],\n",
       " ['PP', 'with'],\n",
       " ['VP', 'saw'],\n",
       " ['NP', 'astronomers'],\n",
       " ['NP', 'ears'],\n",
       " ['NP', 'telescope'],\n",
       " ['NP', 'stars'],\n",
       " ['S', 'NP', 'VP'],\n",
       " ['S', 'saw'],\n",
       " ['S', 'saw']]"
      ]
     },
     "execution_count": 4,
     "metadata": {},
     "output_type": "execute_result"
    }
   ],
   "source": [
    "CYK.grammar"
   ]
  },
  {
   "cell_type": "code",
   "execution_count": 5,
   "metadata": {},
   "outputs": [
    {
     "name": "stdout",
     "output_type": "stream",
     "text": [
      "The given sentence is not contained in the language produced by the given grammar!\n",
      "The given sentence is not contained in the language produced by the given grammar!\n",
      "The given sentence is contained in the language produced by the given grammar!\n",
      "\n",
      "Possible parse(s):\n",
      "[S [NP [NP 'dün'] [NP [NP 'arkadaşıma'] [NP 'hediye']]] [VP 'aldım']]\n",
      "[S [NP [NP [NP 'dün'] [NP 'arkadaşıma']] [NP 'hediye']] [VP 'aldım']]\n",
      "The given sentence is contained in the language produced by the given grammar!\n",
      "\n",
      "Possible parse(s):\n",
      "[S [NP [NP 'ben'] [NP 'romanları']] [VP 'okuyorum']]\n",
      "The given sentence is contained in the language produced by the given grammar!\n",
      "\n",
      "Possible parse(s):\n",
      "[S [NP [NP 'ağır'] [NP 'romanları']] [VP 'yediler']]\n",
      "The given sentence is contained in the language produced by the given grammar!\n",
      "\n",
      "Possible parse(s):\n",
      "[S [NP 'biz'] [VP 'yürüyoruz']]\n"
     ]
    }
   ],
   "source": [
    "CYK.parse('astronomers saw stars with telescope')\n",
    "CYK.print_tree()\n",
    "\n",
    "CYK2.parse('işçiler hamburgeri çatal ile yediler mi')\n",
    "CYK2.print_tree()\n",
    "\n",
    "CYK2.parse('dün arkadaşıma hediye aldım')\n",
    "CYK2.print_tree()\n",
    "\n",
    "CYK2.parse('ben romanları okuyorum')\n",
    "CYK2.print_tree()\n",
    "\n",
    "CYK2.parse('ağır romanları yediler')\n",
    "CYK2.print_tree()\n",
    "\n",
    "CYK2.parse('biz yürüyoruz')\n",
    "CYK2.print_tree()"
   ]
  },
  {
   "cell_type": "markdown",
   "metadata": {},
   "source": [
    "### So called Basic CYK Parser"
   ]
  },
  {
   "cell_type": "code",
   "execution_count": null,
   "metadata": {},
   "outputs": [],
   "source": [
    "from garcia_CYK_Parser import *"
   ]
  },
  {
   "cell_type": "code",
   "execution_count": null,
   "metadata": {},
   "outputs": [],
   "source": [
    "g = Grammar('grammar.txt')\n",
    "g2 = Grammar('Grammar/turkish_grammar_for_rob.txt')"
   ]
  },
  {
   "cell_type": "code",
   "execution_count": null,
   "metadata": {},
   "outputs": [],
   "source": [
    "g.parse('astronomers saw stars with telescope')\n",
    "g2.parse('ben geldim')"
   ]
  },
  {
   "cell_type": "code",
   "execution_count": null,
   "metadata": {},
   "outputs": [],
   "source": [
    "g.print_parse_table()\n",
    "g2.print_parse_table()"
   ]
  },
  {
   "cell_type": "code",
   "execution_count": null,
   "metadata": {},
   "outputs": [],
   "source": [
    "g.grammar_rules"
   ]
  }
 ],
 "metadata": {
  "kernelspec": {
   "display_name": "Python 3",
   "language": "python",
   "name": "python3"
  },
  "language_info": {
   "codemirror_mode": {
    "name": "ipython",
    "version": 3
   },
   "file_extension": ".py",
   "mimetype": "text/x-python",
   "name": "python",
   "nbconvert_exporter": "python",
   "pygments_lexer": "ipython3",
   "version": "3.7.9"
  }
 },
 "nbformat": 4,
 "nbformat_minor": 4
}
