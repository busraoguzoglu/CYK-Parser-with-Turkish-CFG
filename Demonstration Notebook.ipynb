{
 "cells": [
  {
   "cell_type": "code",
   "execution_count": 1,
   "metadata": {},
   "outputs": [],
   "source": [
    "import pandas as pd\n",
    "from sklearn import metrics\n",
    "\n",
    "from CYK_Parser import *\n",
    "\n",
    "def all_metrics_together(y, y_hat, average = 'micro'):\n",
    "    accuracy = metrics.accuracy_score(y, y_hat)\n",
    "    recall = metrics.recall_score(y, y_hat, average = average)\n",
    "    precision = metrics.precision_score(y, y_hat, average = average)\n",
    "    f1 = metrics.f1_score(y, y_hat, average = average)\n",
    "\n",
    "    df = pd.DataFrame({'Accuracy': accuracy, 'Recall': recall, 'Precision': precision, 'F1': f1}, index = ['Score'])\n",
    "    return df"
   ]
  },
  {
   "cell_type": "code",
   "execution_count": 2,
   "metadata": {},
   "outputs": [
    {
     "data": {
      "text/plain": "       Accuracy  Recall  Precision   F1\nScore       0.5     0.5        0.5  0.5",
      "text/html": "<div>\n<style scoped>\n    .dataframe tbody tr th:only-of-type {\n        vertical-align: middle;\n    }\n\n    .dataframe tbody tr th {\n        vertical-align: top;\n    }\n\n    .dataframe thead th {\n        text-align: right;\n    }\n</style>\n<table border=\"1\" class=\"dataframe\">\n  <thead>\n    <tr style=\"text-align: right;\">\n      <th></th>\n      <th>Accuracy</th>\n      <th>Recall</th>\n      <th>Precision</th>\n      <th>F1</th>\n    </tr>\n  </thead>\n  <tbody>\n    <tr>\n      <th>Score</th>\n      <td>0.5</td>\n      <td>0.5</td>\n      <td>0.5</td>\n      <td>0.5</td>\n    </tr>\n  </tbody>\n</table>\n</div>"
     },
     "execution_count": 2,
     "metadata": {},
     "output_type": "execute_result"
    }
   ],
   "source": [
    "all_metrics_together(['b', 'b', 'b', 'a'], ['a', 'b', 'c', 'a'])"
   ]
  },
  {
   "cell_type": "markdown",
   "metadata": {},
   "source": [
    "### CYK Parser"
   ]
  },
  {
   "cell_type": "code",
   "execution_count": 3,
   "metadata": {},
   "outputs": [],
   "source": [
    "g = Grammar('Grammar/turkish_grammar_with_morphology.txt')"
   ]
  },
  {
   "cell_type": "code",
   "execution_count": 4,
   "metadata": {
    "scrolled": false
   },
   "outputs": [
    {
     "name": "stdout",
     "output_type": "stream",
     "text": [
      "Given sentence is gramatically CORRECT\n",
      "ben gel dim\n",
      "['PRO1', 'V', 'PAST1']\n"
     ]
    }
   ],
   "source": [
    "sentence = 'ben gel dim'\n",
    "g.parse(sentence)"
   ]
  },
  {
   "cell_type": "code",
   "execution_count": 5,
   "metadata": {},
   "outputs": [
    {
     "name": "stdout",
     "output_type": "stream",
     "text": [
      "Given sentence is gramatically INCORRECT\n"
     ]
    }
   ],
   "source": [
    "sentence = 'sen gel dim'\n",
    "g.parse(sentence)"
   ]
  },
  {
   "cell_type": "code",
   "execution_count": 6,
   "metadata": {},
   "outputs": [
    {
     "name": "stdout",
     "output_type": "stream",
     "text": [
      "Given sentence is gramatically INCORRECT\n"
     ]
    }
   ],
   "source": [
    "sentence = 'ben gel din'\n",
    "g.parse(sentence)"
   ]
  },
  {
   "cell_type": "code",
   "execution_count": 7,
   "metadata": {},
   "outputs": [
    {
     "name": "stdout",
     "output_type": "stream",
     "text": [
      "Given sentence is gramatically CORRECT\n",
      "sen gel din\n",
      "['PRO2', 'V', 'PAST2']\n"
     ]
    }
   ],
   "source": [
    "sentence = 'sen gel din'\n",
    "g.parse(sentence)"
   ]
  },
  {
   "cell_type": "code",
   "execution_count": 8,
   "metadata": {},
   "outputs": [
    {
     "name": "stdout",
     "output_type": "stream",
     "text": [
      "Given sentence is gramatically INCORRECT\n"
     ]
    }
   ],
   "source": [
    "sentence = 'bir roman lar oku dum'\n",
    "g.parse(sentence)"
   ]
  },
  {
   "cell_type": "code",
   "execution_count": 9,
   "metadata": {},
   "outputs": [
    {
     "name": "stdout",
     "output_type": "stream",
     "text": [
      "Given sentence is gramatically CORRECT\n",
      "ben roman oku dum\n",
      "['PRO1', 'N', 'V', 'PAST1']\n"
     ]
    }
   ],
   "source": [
    "sentence = 'ben roman oku dum'\n",
    "g.parse(sentence)"
   ]
  },
  {
   "cell_type": "code",
   "execution_count": 10,
   "metadata": {},
   "outputs": [
    {
     "name": "stdout",
     "output_type": "stream",
     "text": [
      "Given sentence is gramatically INCORRECT\n"
     ]
    }
   ],
   "source": [
    "sentence = 'sen roman oku dum'\n",
    "g.parse(sentence)"
   ]
  },
  {
   "cell_type": "code",
   "execution_count": 11,
   "metadata": {},
   "outputs": [
    {
     "name": "stdout",
     "output_type": "stream",
     "text": [
      "Given sentence is gramatically CORRECT\n",
      "ben dün gel dim\n",
      "['PRO1', 'NP', 'V', 'PAST1']\n"
     ]
    }
   ],
   "source": [
    "sentence = 'ben dün gel dim'\n",
    "g.parse(sentence)"
   ]
  },
  {
   "cell_type": "code",
   "execution_count": 12,
   "metadata": {},
   "outputs": [
    {
     "name": "stdout",
     "output_type": "stream",
     "text": [
      "Given sentence is gramatically INCORRECT\n"
     ]
    }
   ],
   "source": [
    "sentence = 'ben yarın gel dim'\n",
    "g.parse(sentence)"
   ]
  },
  {
   "cell_type": "code",
   "execution_count": 13,
   "metadata": {},
   "outputs": [
    {
     "name": "stdout",
     "output_type": "stream",
     "text": [
      "Given sentence is gramatically INCORRECT\n"
     ]
    }
   ],
   "source": [
    "sentence = 'tarihi bir roman lar oku dum'\n",
    "g.parse(sentence)"
   ]
  },
  {
   "cell_type": "code",
   "execution_count": 14,
   "metadata": {
    "scrolled": true
   },
   "outputs": [
    {
     "name": "stdout",
     "output_type": "stream",
     "text": [
      "Given sentence is gramatically CORRECT\n",
      "tarihi roman lar oku dum\n",
      "['ADJ', 'N', 'PL', 'V', 'PAST1']\n"
     ]
    }
   ],
   "source": [
    "sentence = 'tarihi roman lar oku dum'\n",
    "g.parse(sentence)"
   ]
  },
  {
   "cell_type": "code",
   "execution_count": 15,
   "metadata": {},
   "outputs": [
    {
     "name": "stdout",
     "output_type": "stream",
     "text": [
      "Given sentence is gramatically CORRECT\n",
      "tarihi bir roman oku dum\n",
      "['ADJ', 'SING', 'N', 'V', 'PAST1']\n"
     ]
    }
   ],
   "source": [
    "sentence = 'tarihi bir roman oku dum'\n",
    "g.parse(sentence)"
   ]
  },
  {
   "cell_type": "code",
   "execution_count": 16,
   "metadata": {
    "pycharm": {
     "name": "#%%\n"
    }
   },
   "outputs": [
    {
     "name": "stdout",
     "output_type": "stream",
     "text": [
      "Given sentence is gramatically INCORRECT\n"
     ]
    }
   ],
   "source": [
    "sentence = 'ben kitap oku du'\n",
    "g.parse(sentence)"
   ]
  },
  {
   "cell_type": "code",
   "execution_count": 17,
   "metadata": {
    "pycharm": {
     "name": "#%%\n"
    }
   },
   "outputs": [
    {
     "name": "stdout",
     "output_type": "stream",
     "text": [
      "Given sentence is gramatically INCORRECT\n"
     ]
    }
   ],
   "source": [
    "sentence = 'ben arkadaşıma hediye al dı'\n",
    "g.parse(sentence)"
   ]
  },
  {
   "cell_type": "code",
   "execution_count": 18,
   "metadata": {
    "pycharm": {
     "name": "#%%\n"
    }
   },
   "outputs": [
    {
     "name": "stdout",
     "output_type": "stream",
     "text": [
      "Given sentence is gramatically CORRECT\n",
      "arkadaşıma hediye al dı\n",
      "['N', 'N', 'V', 'PAST3']\n"
     ]
    }
   ],
   "source": [
    "sentence = 'arkadaşıma hediye al dı'\n",
    "g.parse(sentence)"
   ]
  },
  {
   "cell_type": "code",
   "execution_count": 19,
   "metadata": {
    "pycharm": {
     "name": "#%%\n"
    }
   },
   "outputs": [
    {
     "name": "stdout",
     "output_type": "stream",
     "text": [
      "\n",
      "----------------------------  ---------------  -----------  ---------\n",
      "['S', 'S']\n",
      "['S17', 'S18', 'S17', 'S18']  ['VPPAST', 'S']\n",
      "['NP', 'NP', 'S19']           ['S17', 'S18']   ['VPPAST3']\n",
      "['N', 'NP']                   ['N', 'NP']      ['V', 'VP']  ['PAST3']\n",
      "arkadaşıma                    hediye           al           dı\n",
      "----------------------------  ---------------  -----------  ---------\n",
      "\n"
     ]
    }
   ],
   "source": [
    "g.print_parsed_table()"
   ]
  },
  {
   "cell_type": "markdown",
   "source": [
    "### Example Sentences for Metric Calculation"
   ],
   "metadata": {
    "collapsed": false
   }
  },
  {
   "cell_type": "code",
   "execution_count": 20,
   "outputs": [
    {
     "name": "stdout",
     "output_type": "stream",
     "text": [
      "Given sentence is gramatically CORRECT\n",
      "karpuz en güzel meyve dir\n",
      "['N', 'ADJ', 'ADJ', 'N', 'PREPART']\n",
      "\n",
      "--------------  --------------  --------------  -----------  -----------\n",
      "['S']\n",
      "['NP']          ['S']\n",
      "['S20', 'S21']  ['NP', 'NP32']  ['S']\n",
      "['S20', 'S21']  ['ADJ']         ['NP', 'NP32']  ['S']\n",
      "['N', 'NP']     ['ADJ']         ['ADJ']         ['N', 'NP']  ['PREPART']\n",
      "karpuz          en              güzel           meyve        dir\n",
      "--------------  --------------  --------------  -----------  -----------\n",
      "\n"
     ]
    }
   ],
   "source": [
    "sentence = 'karpuz en güzel meyve dir'\n",
    "g.parse(sentence)\n",
    "g.print_parsed_table()"
   ],
   "metadata": {
    "collapsed": false,
    "pycharm": {
     "name": "#%%\n"
    }
   }
  },
  {
   "cell_type": "code",
   "execution_count": 21,
   "outputs": [
    {
     "name": "stdout",
     "output_type": "stream",
     "text": [
      "Given sentence is gramatically CORRECT\n",
      "okul bizim köye epey uzak dı\n",
      "['N', 'N', 'N', 'ADJ', 'ADJ', 'PAST3']\n"
     ]
    }
   ],
   "source": [
    "sentence = 'okul bizim köye epey uzak dı'\n",
    "g.parse(sentence)\n",
    "#g.print_parsed_table()"
   ],
   "metadata": {
    "collapsed": false,
    "pycharm": {
     "name": "#%%\n"
    }
   }
  },
  {
   "cell_type": "code",
   "execution_count": 22,
   "outputs": [
    {
     "name": "stdout",
     "output_type": "stream",
     "text": [
      "Given sentence is gramatically CORRECT\n",
      "destan lar milli kültürümüzü ve tarihimizi güzelce anlat ır\n",
      "['N', 'PL', 'N', 'N', 'PP', 'N', 'ADV', 'V', 'PREPART']\n",
      "\n",
      "--------------  -------------------  --------------------------------------------------------  --------------  ------  --------------  -------  -----------  -----------\n",
      "['S']\n",
      "['S17', 'S18']  []\n",
      "[]              []                   ['S', 'S', 'S', 'S']\n",
      "['NP', 'S19']   []                   ['S17', 'S18', 'S17', 'S18', 'S17', 'S18', 'S17', 'S18']  ['S']\n",
      "['NP', 'S10']   []                   []                                                        ['S17', 'S18']  []\n",
      "['NP', 'S19']   []                   ['NP', 'NP', 'S19', 'NP', 'S19', 'NP', 'S19']             []              []      ['S']\n",
      "['NP', 'S19']   []                   ['NP', 'NP', 'S10', 'NP', 'S10']                          ['NP', 'S19']   []      ['S17', 'S18']  []\n",
      "['NP']          []                   ['NP', 'NP', 'S19']                                       ['NP', 'S10']   []      []              ['VP']   []\n",
      "['N', 'NP']     ['PL', 'POSPROPL3']  ['N', 'NP']                                               ['N', 'NP']     ['PP']  ['N', 'NP']     ['ADV']  ['V', 'VP']  ['PREPART']\n",
      "destan          lar                  milli                                                     kültürümüzü     ve      tarihimizi      güzelce  anlat        ır\n",
      "--------------  -------------------  --------------------------------------------------------  --------------  ------  --------------  -------  -----------  -----------\n",
      "\n"
     ]
    }
   ],
   "source": [
    "sentence = 'destan lar milli kültürümüzü ve tarihimizi güzelce anlat ır'\n",
    "g.parse(sentence)\n",
    "g.print_parsed_table()"
   ],
   "metadata": {
    "collapsed": false,
    "pycharm": {
     "name": "#%%\n"
    }
   }
  },
  {
   "cell_type": "code",
   "execution_count": 23,
   "outputs": [
    {
     "name": "stdout",
     "output_type": "stream",
     "text": [
      "Given sentence is gramatically CORRECT\n",
      "siz buraya en son ne zaman gel diniz\n",
      "['PROPL2', 'N', 'ADJ', 'N', 'Q', 'N', 'V', 'PASTPL2']\n"
     ]
    }
   ],
   "source": [
    "sentence = 'siz buraya en son ne zaman gel diniz'\n",
    "g.parse(sentence)\n",
    "#g.print_parsed_table()"
   ],
   "metadata": {
    "collapsed": false,
    "pycharm": {
     "name": "#%%\n"
    }
   }
  },
  {
   "cell_type": "code",
   "execution_count": 24,
   "outputs": [
    {
     "name": "stdout",
     "output_type": "stream",
     "text": [
      "Given sentence is gramatically CORRECT\n",
      "sen şimdi keyifle roman oku yor sun\n",
      "['PRO2', 'PRENOUN', 'ADV', 'N', 'V', 'PRE', 'POSPRO2']\n"
     ]
    }
   ],
   "source": [
    "sentence = 'sen şimdi keyifle roman oku yor sun'\n",
    "g.parse(sentence)\n",
    "#g.print_parsed_table()"
   ],
   "metadata": {
    "collapsed": false,
    "pycharm": {
     "name": "#%%\n"
    }
   }
  },
  {
   "cell_type": "code",
   "execution_count": 25,
   "outputs": [
    {
     "name": "stdout",
     "output_type": "stream",
     "text": [
      "Given sentence is gramatically CORRECT\n",
      "akşam yemeği için yardım et dim\n",
      "['N', 'N', 'PP', 'N', 'V', 'PAST1']\n"
     ]
    }
   ],
   "source": [
    "sentence = 'akşam yemeği için yardım et dim'\n",
    "g.parse(sentence)\n",
    "#g.print_parsed_table()"
   ],
   "metadata": {
    "collapsed": false,
    "pycharm": {
     "name": "#%%\n"
    }
   }
  },
  {
   "cell_type": "code",
   "execution_count": 26,
   "outputs": [
    {
     "name": "stdout",
     "output_type": "stream",
     "text": [
      "Given sentence is gramatically CORRECT\n",
      "yüksek sesle müzik dinle me\n",
      "['ADJ', 'N', 'N', 'V', 'IMP']\n"
     ]
    }
   ],
   "source": [
    "sentence = 'yüksek sesle müzik dinle me'\n",
    "g.parse(sentence)\n",
    "#g.print_parsed_table()"
   ],
   "metadata": {
    "collapsed": false,
    "pycharm": {
     "name": "#%%\n"
    }
   }
  },
  {
   "cell_type": "code",
   "execution_count": 27,
   "outputs": [
    {
     "name": "stdout",
     "output_type": "stream",
     "text": [
      "Given sentence is gramatically CORRECT\n",
      "arkadaşıma hediye ler al dım\n",
      "['N', 'N', 'PL', 'V', 'PAST1']\n"
     ]
    }
   ],
   "source": [
    "sentence = 'arkadaşıma hediye ler al dım'\n",
    "g.parse(sentence)\n",
    "#g.print_parsed_table()"
   ],
   "metadata": {
    "collapsed": false,
    "pycharm": {
     "name": "#%%\n"
    }
   }
  },
  {
   "cell_type": "code",
   "execution_count": 28,
   "outputs": [
    {
     "name": "stdout",
     "output_type": "stream",
     "text": [
      "Given sentence is gramatically CORRECT\n",
      "ben yarın gel ecek im\n",
      "['PRO1', 'FUTNOUN', 'V', 'FUT', 'POSPRO1']\n"
     ]
    }
   ],
   "source": [
    "sentence = 'ben yarın gel ecek im'\n",
    "g.parse(sentence)\n",
    "#g.print_parsed_table()"
   ],
   "metadata": {
    "collapsed": false,
    "pycharm": {
     "name": "#%%\n"
    }
   }
  },
  {
   "cell_type": "code",
   "execution_count": 29,
   "outputs": [
    {
     "name": "stdout",
     "output_type": "stream",
     "text": [
      "Given sentence is gramatically CORRECT\n",
      "bu akşamki toplantıya katıl acak mı sınız\n",
      "['ADJ', 'N', 'N', 'V', 'FUT', 'Q', 'POSPROPL2']\n"
     ]
    }
   ],
   "source": [
    "sentence = 'bu akşamki toplantıya katıl acak mı sınız'\n",
    "g.parse(sentence)\n",
    "#g.print_parsed_table()\n"
   ],
   "metadata": {
    "collapsed": false,
    "pycharm": {
     "name": "#%%\n"
    }
   }
  },
  {
   "cell_type": "code",
   "execution_count": 29,
   "metadata": {},
   "outputs": [],
   "source": []
  }
 ],
 "metadata": {
  "kernelspec": {
   "display_name": "Python 3",
   "language": "python",
   "name": "python3"
  },
  "language_info": {
   "codemirror_mode": {
    "name": "ipython",
    "version": 3
   },
   "file_extension": ".py",
   "mimetype": "text/x-python",
   "name": "python",
   "nbconvert_exporter": "python",
   "pygments_lexer": "ipython3",
   "version": "3.7.9"
  }
 },
 "nbformat": 4,
 "nbformat_minor": 4
}