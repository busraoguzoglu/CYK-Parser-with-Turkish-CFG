{
 "cells": [
  {
   "cell_type": "markdown",
   "metadata": {},
   "source": [
    "https://github.com/RobMcH/CYK-Parser"
   ]
  },
  {
   "cell_type": "markdown",
   "metadata": {},
   "source": [
    "https://github.com/ikergarcia1996/Basic-CYK-Parser"
   ]
  },
  {
   "cell_type": "markdown",
   "metadata": {},
   "source": [
    "https://github.com/denizzagli/Context-Free-Grammars-CFGs/blob/master/main.py"
   ]
  },
  {
   "cell_type": "code",
   "execution_count": 1,
   "metadata": {},
   "outputs": [],
   "source": [
    "from grammar_converter import *\n",
    "from garcia_CYK_Parser import *"
   ]
  },
  {
   "cell_type": "markdown",
   "metadata": {},
   "source": [
    "### Convert Grammar"
   ]
  },
  {
   "cell_type": "code",
   "execution_count": 2,
   "metadata": {},
   "outputs": [],
   "source": [
    "cg = grammar_converter('Grammar/turkish_grammar_with_morphology.txt')\n",
    "cnf = cg.convert_grammar()\n",
    "file = open('Grammar/cnf.txt', 'w')\n",
    "for i in range(len(cnf)):\n",
    "    file.write(\",\".join([cnf[i][0]] + [\"->\"]+ cnf[i][1:]).replace(',', ' ') + \"\\n\")\n",
    "file.close()"
   ]
  },
  {
   "cell_type": "markdown",
   "metadata": {},
   "source": [
    "### Garcia CYK Parser"
   ]
  },
  {
   "cell_type": "code",
   "execution_count": 3,
   "metadata": {},
   "outputs": [
    {
     "name": "stdout",
     "output_type": "stream",
     "text": [
      "\n",
      "Grammar file readed succesfully. Rules readed:\n",
      "S --> S0 Past1\n",
      "S0 --> PRO1 V\n",
      "S --> S1 Past2\n",
      "S1 --> PRO2 V\n",
      "S --> S2 Past3\n",
      "S2 --> PRO3 V\n",
      "S --> S3 PosPro1\n",
      "S3 --> NP1 NP\n",
      "S --> S4 PosPro2\n",
      "S4 --> NP2 NP\n",
      "S --> PRO VP\n",
      "S --> S5 VP\n",
      "S5 --> SING N\n",
      "S --> NP VP\n",
      "S --> S6 VP1\n",
      "S6 --> PRO1 N\n",
      "S --> S7 VP2\n",
      "S7 --> PRO2 N\n",
      "S --> S8 VP3\n",
      "S8 --> PRO3 N\n",
      "NP1 --> PRO1 PosPro1\n",
      "NP2 --> PRO2 PosPro2\n",
      "NP3 --> PRO3 PosPro3\n",
      "VP1 --> V Past1\n",
      "VP2 --> V Past2\n",
      "VP3 --> V Past3\n",
      "NP --> N\n",
      "N --> kitap\n",
      "NP --> kitap\n",
      "NP --> kitap\n",
      "N --> kalem\n",
      "NP --> kalem\n",
      "NP --> kalem\n",
      "N --> roman\n",
      "NP --> roman\n",
      "NP --> roman\n",
      "PL --> lar\n",
      "SING --> bir\n",
      "V --> gel\n",
      "V --> oku\n",
      "PRO --> PRO1\n",
      "PRO --> PRO2\n",
      "PRO --> PRO3\n",
      "PRO1 --> ben\n",
      "PRO --> ben\n",
      "PRO --> ben\n",
      "PRO2 --> sen\n",
      "PRO --> sen\n",
      "PRO --> sen\n",
      "PRO3 --> o\n",
      "PRO --> o\n",
      "PRO --> o\n",
      "Past1 --> dim\n",
      "Past1 --> dum\n",
      "Past2 --> din\n",
      "Past2 --> dun\n",
      "Past3 --> di\n",
      "Past3 --> du\n",
      "PosPro1 --> im\n",
      "PosPro2 --> in\n",
      "PosPro3 --> nun\n",
      "\n"
     ]
    }
   ],
   "source": [
    "g2 = Grammar('Grammar/cnf.txt')"
   ]
  },
  {
   "cell_type": "code",
   "execution_count": 4,
   "metadata": {},
   "outputs": [
    {
     "name": "stdout",
     "output_type": "stream",
     "text": [
      "Applied Rule: S0[2,1] --> PRO1[1,1] V[1,2]\n",
      "Applied Rule: VP1[2,2] --> V[1,2] Past1[1,3]\n",
      "Applied Rule: S[3,1] --> S0[2,1] Past1[1,3]\n",
      "----------------------------------------\n",
      "The sentence IS accepted in the language\n",
      "Number of possible trees: 1\n",
      "----------------------------------------\n",
      "\n",
      " \n",
      "\n",
      "Applied Rule: S1[2,1] --> PRO2[1,1] V[1,2]\n",
      "Applied Rule: VP1[2,2] --> V[1,2] Past1[1,3]\n",
      "--------------------------------------------\n",
      "The sentence IS NOT accepted in the language\n",
      "--------------------------------------------\n",
      "\n",
      " \n",
      "\n",
      "Applied Rule: S0[2,1] --> PRO1[1,1] V[1,2]\n",
      "Applied Rule: VP2[2,2] --> V[1,2] Past2[1,3]\n",
      "--------------------------------------------\n",
      "The sentence IS NOT accepted in the language\n",
      "--------------------------------------------\n",
      "\n",
      " \n",
      "\n",
      "Applied Rule: S1[2,1] --> PRO2[1,1] V[1,2]\n",
      "Applied Rule: VP2[2,2] --> V[1,2] Past2[1,3]\n",
      "Applied Rule: S[3,1] --> S1[2,1] Past2[1,3]\n",
      "----------------------------------------\n",
      "The sentence IS accepted in the language\n",
      "Number of possible trees: 1\n",
      "----------------------------------------\n",
      "\n",
      " \n",
      "\n",
      "Applied Rule: NP1[2,1] --> PRO1[1,1] PosPro1[1,2]\n",
      "Applied Rule: S3[3,1] --> NP1[2,1] NP[1,3]\n",
      "Applied Rule: S3[3,1] --> NP1[2,1] NP[1,3]\n",
      "Applied Rule: S[4,1] --> S3[3,1] PosPro1[1,4]\n",
      "Applied Rule: S[4,1] --> S3[3,1] PosPro1[1,4]\n",
      "----------------------------------------\n",
      "The sentence IS accepted in the language\n",
      "Number of possible trees: 2\n",
      "----------------------------------------\n",
      "\n",
      " \n",
      "\n",
      "Applied Rule: NP1[2,1] --> PRO1[1,1] PosPro1[1,2]\n",
      "Applied Rule: S3[3,1] --> NP1[2,1] NP[1,3]\n",
      "Applied Rule: S3[3,1] --> NP1[2,1] NP[1,3]\n",
      "--------------------------------------------\n",
      "The sentence IS NOT accepted in the language\n",
      "--------------------------------------------\n",
      "\n",
      " \n",
      "\n",
      "Applied Rule: NP2[2,1] --> PRO2[1,1] PosPro2[1,2]\n",
      "Applied Rule: S4[3,1] --> NP2[2,1] NP[1,3]\n",
      "Applied Rule: S4[3,1] --> NP2[2,1] NP[1,3]\n",
      "Applied Rule: S[4,1] --> S4[3,1] PosPro2[1,4]\n",
      "Applied Rule: S[4,1] --> S4[3,1] PosPro2[1,4]\n",
      "----------------------------------------\n",
      "The sentence IS accepted in the language\n",
      "Number of possible trees: 2\n",
      "----------------------------------------\n",
      "\n",
      " \n",
      "\n",
      "Applied Rule: S5[2,1] --> SING[1,1] N[1,2]\n",
      "Applied Rule: VP1[2,4] --> V[1,4] Past1[1,5]\n",
      "--------------------------------------------\n",
      "The sentence IS NOT accepted in the language\n",
      "--------------------------------------------\n",
      "\n",
      " \n",
      "\n",
      "Applied Rule: S6[2,1] --> PRO1[1,1] N[1,2]\n",
      "Applied Rule: VP1[2,3] --> V[1,3] Past1[1,4]\n",
      "Applied Rule: S[4,1] --> S6[2,1] VP1[2,3]\n",
      "----------------------------------------\n",
      "The sentence IS accepted in the language\n",
      "Number of possible trees: 1\n",
      "----------------------------------------\n"
     ]
    }
   ],
   "source": [
    "g2.parse('ben gel dim')\n",
    "print(\"\\n\", \"\\n\")\n",
    "g2.parse('sen gel dim')\n",
    "print(\"\\n\", \"\\n\")\n",
    "g2.parse('ben gel din')\n",
    "print(\"\\n\", \"\\n\")\n",
    "g2.parse('sen gel din')\n",
    "print(\"\\n\", \"\\n\")\n",
    "g2.parse('ben im kalem im')\n",
    "print(\"\\n\", \"\\n\")\n",
    "g2.parse('ben im kalem in')\n",
    "print(\"\\n\", \"\\n\")\n",
    "g2.parse('sen in kalem in')\n",
    "print(\"\\n\", \"\\n\")\n",
    "g2.parse('bir roman lar oku dum')\n",
    "print(\"\\n\", \"\\n\")\n",
    "g2.parse('ben roman oku dum')"
   ]
  },
  {
   "cell_type": "code",
   "execution_count": 5,
   "metadata": {},
   "outputs": [
    {
     "data": {
      "text/plain": "{'S0 Past1': ['S'],\n 'PRO1 V': ['S0'],\n 'S1 Past2': ['S'],\n 'PRO2 V': ['S1'],\n 'S2 Past3': ['S'],\n 'PRO3 V': ['S2'],\n 'S3 PosPro1': ['S'],\n 'NP1 NP': ['S3'],\n 'S4 PosPro2': ['S'],\n 'NP2 NP': ['S4'],\n 'PRO VP': ['S'],\n 'S5 VP': ['S'],\n 'SING N': ['S5'],\n 'NP VP': ['S'],\n 'S6 VP1': ['S'],\n 'PRO1 N': ['S6'],\n 'S7 VP2': ['S'],\n 'PRO2 N': ['S7'],\n 'S8 VP3': ['S'],\n 'PRO3 N': ['S8'],\n 'PRO1 PosPro1': ['NP1'],\n 'PRO2 PosPro2': ['NP2'],\n 'PRO3 PosPro3': ['NP3'],\n 'V Past1': ['VP1'],\n 'V Past2': ['VP2'],\n 'V Past3': ['VP3'],\n 'N': ['NP'],\n 'kitap': ['N', 'NP', 'NP'],\n 'kalem': ['N', 'NP', 'NP'],\n 'roman': ['N', 'NP', 'NP'],\n 'lar': ['PL'],\n 'bir': ['SING'],\n 'gel': ['V'],\n 'oku': ['V'],\n 'PRO1': ['PRO'],\n 'PRO2': ['PRO'],\n 'PRO3': ['PRO'],\n 'ben': ['PRO1', 'PRO', 'PRO'],\n 'sen': ['PRO2', 'PRO', 'PRO'],\n 'o': ['PRO3', 'PRO', 'PRO'],\n 'dim': ['Past1'],\n 'dum': ['Past1'],\n 'din': ['Past2'],\n 'dun': ['Past2'],\n 'di': ['Past3'],\n 'du': ['Past3'],\n 'im': ['PosPro1'],\n 'in': ['PosPro2'],\n 'nun': ['PosPro3']}"
     },
     "execution_count": 5,
     "metadata": {},
     "output_type": "execute_result"
    }
   ],
   "source": [
    "g2.grammar_rules"
   ]
  },
  {
   "cell_type": "code",
   "execution_count": 6,
   "metadata": {},
   "outputs": [
    {
     "name": "stdout",
     "output_type": "stream",
     "text": [
      "\n",
      "----------------------  -----------------  -------  ---------\n",
      "['S']\n",
      "[]                      []\n",
      "['S6']                  []                 ['VP1']\n",
      "['PRO1', 'PRO', 'PRO']  ['N', 'NP', 'NP']  ['V']    ['Past1']\n",
      "ben                     roman              oku      dum\n",
      "----------------------  -----------------  -------  ---------\n",
      "\n"
     ]
    }
   ],
   "source": [
    "g2.print_parse_table()"
   ]
  }
 ],
 "metadata": {
  "kernelspec": {
   "display_name": "Python 3",
   "language": "python",
   "name": "python3"
  },
  "language_info": {
   "codemirror_mode": {
    "name": "ipython",
    "version": 3
   },
   "file_extension": ".py",
   "mimetype": "text/x-python",
   "name": "python",
   "nbconvert_exporter": "python",
   "pygments_lexer": "ipython3",
   "version": "3.7.9"
  }
 },
 "nbformat": 4,
 "nbformat_minor": 4
}