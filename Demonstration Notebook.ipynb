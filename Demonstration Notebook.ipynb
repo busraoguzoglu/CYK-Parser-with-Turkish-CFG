{
 "cells": [
  {
   "cell_type": "code",
   "execution_count": 1,
   "metadata": {},
   "outputs": [],
   "source": [
    "import pandas as pd\n",
    "from sklearn import metrics\n",
    "\n",
    "from CYK_Parser import *\n",
    "\n",
    "def all_metrics_together(y, y_hat, average = 'micro'):\n",
    "    accuracy = metrics.accuracy_score(y, y_hat)\n",
    "    recall = metrics.recall_score(y, y_hat, average = average)\n",
    "    precision = metrics.precision_score(y, y_hat, average = average)\n",
    "    f1 = metrics.f1_score(y, y_hat, average = average)\n",
    "\n",
    "    df = pd.DataFrame({'Accuracy': accuracy, 'Recall': recall, 'Precision': precision, 'F1': f1}, index = ['Score'])\n",
    "    return df"
   ]
  },
  {
   "cell_type": "code",
   "execution_count": 2,
   "metadata": {},
   "outputs": [
    {
     "data": {
      "text/html": [
       "<div>\n",
       "<style scoped>\n",
       "    .dataframe tbody tr th:only-of-type {\n",
       "        vertical-align: middle;\n",
       "    }\n",
       "\n",
       "    .dataframe tbody tr th {\n",
       "        vertical-align: top;\n",
       "    }\n",
       "\n",
       "    .dataframe thead th {\n",
       "        text-align: right;\n",
       "    }\n",
       "</style>\n",
       "<table border=\"1\" class=\"dataframe\">\n",
       "  <thead>\n",
       "    <tr style=\"text-align: right;\">\n",
       "      <th></th>\n",
       "      <th>Accuracy</th>\n",
       "      <th>Recall</th>\n",
       "      <th>Precision</th>\n",
       "      <th>F1</th>\n",
       "    </tr>\n",
       "  </thead>\n",
       "  <tbody>\n",
       "    <tr>\n",
       "      <th>Score</th>\n",
       "      <td>0.5</td>\n",
       "      <td>0.5</td>\n",
       "      <td>0.5</td>\n",
       "      <td>0.5</td>\n",
       "    </tr>\n",
       "  </tbody>\n",
       "</table>\n",
       "</div>"
      ],
      "text/plain": [
       "       Accuracy  Recall  Precision   F1\n",
       "Score       0.5     0.5        0.5  0.5"
      ]
     },
     "execution_count": 2,
     "metadata": {},
     "output_type": "execute_result"
    }
   ],
   "source": [
    "all_metrics_together(['b', 'b', 'b', 'a'], ['a', 'b', 'c', 'a'])"
   ]
  },
  {
   "cell_type": "markdown",
   "metadata": {},
   "source": [
    "### CYK Parser"
   ]
  },
  {
   "cell_type": "markdown",
   "metadata": {},
   "source": [
    "### Example Sentences for Syntax Based Agreement Phenomena"
   ]
  },
  {
   "cell_type": "code",
   "execution_count": 3,
   "metadata": {},
   "outputs": [],
   "source": [
    "g = CYKParser('Grammar/turkish_grammar_with_morphology_v3.txt')"
   ]
  },
  {
   "cell_type": "code",
   "execution_count": 4,
   "metadata": {
    "scrolled": false
   },
   "outputs": [
    {
     "name": "stdout",
     "output_type": "stream",
     "text": [
      "Given sentence is gramatically CORRECT\n",
      "ben gel dim\n",
      "['PRO1', 'VP', 'PAST1']\n"
     ]
    }
   ],
   "source": [
    "sentence = 'ben gel dim'\n",
    "g.parse(sentence)"
   ]
  },
  {
   "cell_type": "code",
   "execution_count": 5,
   "metadata": {},
   "outputs": [
    {
     "name": "stdout",
     "output_type": "stream",
     "text": [
      "Given sentence is gramatically INCORRECT\n"
     ]
    }
   ],
   "source": [
    "sentence = 'sen gel dim'\n",
    "g.parse(sentence)"
   ]
  },
  {
   "cell_type": "code",
   "execution_count": 6,
   "metadata": {},
   "outputs": [
    {
     "name": "stdout",
     "output_type": "stream",
     "text": [
      "Given sentence is gramatically INCORRECT\n"
     ]
    }
   ],
   "source": [
    "sentence = 'ben gel din'\n",
    "g.parse(sentence)"
   ]
  },
  {
   "cell_type": "code",
   "execution_count": 7,
   "metadata": {},
   "outputs": [
    {
     "name": "stdout",
     "output_type": "stream",
     "text": [
      "Given sentence is gramatically CORRECT\n",
      "sen gel din\n",
      "['PRO2', 'VP', 'PAST2']\n"
     ]
    }
   ],
   "source": [
    "sentence = 'sen gel din'\n",
    "g.parse(sentence)"
   ]
  },
  {
   "cell_type": "code",
   "execution_count": 8,
   "metadata": {},
   "outputs": [
    {
     "name": "stdout",
     "output_type": "stream",
     "text": [
      "Given sentence is gramatically CORRECT\n",
      "ben roman oku dum\n",
      "['PRO1', 'NP', 'VP', 'PAST1']\n"
     ]
    }
   ],
   "source": [
    "sentence = 'ben roman oku dum'\n",
    "g.parse(sentence)"
   ]
  },
  {
   "cell_type": "code",
   "execution_count": 9,
   "metadata": {
    "pycharm": {
     "name": "#%%\n"
    }
   },
   "outputs": [
    {
     "name": "stdout",
     "output_type": "stream",
     "text": [
      "Given sentence is gramatically INCORRECT\n"
     ]
    }
   ],
   "source": [
    "sentence = 'ben kitap oku du'\n",
    "g.parse(sentence)"
   ]
  },
  {
   "cell_type": "code",
   "execution_count": 10,
   "metadata": {
    "pycharm": {
     "name": "#%%\n"
    }
   },
   "outputs": [
    {
     "name": "stdout",
     "output_type": "stream",
     "text": [
      "Given sentence is gramatically INCORRECT\n",
      "\n",
      "------------------  ------------------------------------  ------------------------------------  -----------  ---------\n",
      "[]\n",
      "[]                  ['S', 'SIMPLEPASTCLAUSE3', 'VPPAST']\n",
      "['PRONOUNCLAUSE1']  ['NPVP']                              ['S', 'SIMPLEPASTCLAUSE3', 'VPPAST']\n",
      "['PRONOUNCLAUSE1']  ['NP']                                ['NPVP']                              ['VPPAST3']\n",
      "['PRO1']            ['NP']                                ['NP']                                ['VP']       ['PAST3']\n",
      "ben                 arkadaşıma                            hediye                                al           dı\n",
      "------------------  ------------------------------------  ------------------------------------  -----------  ---------\n",
      "\n"
     ]
    }
   ],
   "source": [
    "sentence = 'ben arkadaşıma hediye al dı'\n",
    "g.parse(sentence)\n",
    "g.print_parsed_table()"
   ]
  },
  {
   "cell_type": "code",
   "execution_count": 11,
   "metadata": {
    "pycharm": {
     "name": "#%%\n"
    }
   },
   "outputs": [
    {
     "name": "stdout",
     "output_type": "stream",
     "text": [
      "Given sentence is gramatically CORRECT\n",
      "arkadaşıma hediye al dı\n",
      "['NP', 'NP', 'VP', 'PAST3']\n"
     ]
    }
   ],
   "source": [
    "sentence = 'arkadaşıma hediye al dı'\n",
    "g.parse(sentence)"
   ]
  },
  {
   "cell_type": "code",
   "execution_count": 12,
   "metadata": {
    "pycharm": {
     "name": "#%%\n"
    }
   },
   "outputs": [
    {
     "name": "stdout",
     "output_type": "stream",
     "text": [
      "Given sentence is gramatically INCORRECT\n"
     ]
    }
   ],
   "source": [
    "sentence = 'akşam yemeği için yardım et dim'\n",
    "g.parse(sentence)\n",
    "#g.print_parsed_table()"
   ]
  },
  {
   "cell_type": "code",
   "execution_count": 13,
   "metadata": {
    "pycharm": {
     "name": "#%%\n"
    }
   },
   "outputs": [
    {
     "name": "stdout",
     "output_type": "stream",
     "text": [
      "\n",
      "------  ------  ------  --------  -----------  ---------\n",
      "[]\n",
      "[]      []\n",
      "[]      []      []\n",
      "['NP']  []      []      []\n",
      "['NP']  ['NP']  []      []        ['VPPAST1']\n",
      "['NP']  ['NP']  ['PP']  ['NP->']  ['VP']       ['PAST1']\n",
      "akşam   yemeği  için    yardım    et           dim\n",
      "------  ------  ------  --------  -----------  ---------\n",
      "\n"
     ]
    }
   ],
   "source": [
    "g.print_parsed_table()"
   ]
  },
  {
   "cell_type": "markdown",
   "metadata": {},
   "source": [
    "### Example Sentences for Semantic Based Agreement Phenomena"
   ]
  },
  {
   "cell_type": "code",
   "execution_count": 14,
   "metadata": {
    "pycharm": {
     "name": "#%%\n"
    }
   },
   "outputs": [
    {
     "name": "stdout",
     "output_type": "stream",
     "text": [
      "Given sentence is gramatically CORRECT\n",
      "ben okul a git dim\n",
      "['PRO1', 'NP', 'DATIVE', 'VTYPE2', 'PAST1']\n"
     ]
    }
   ],
   "source": [
    "sentence = 'ben okul a git dim'\n",
    "g.parse(sentence)"
   ]
  },
  {
   "cell_type": "code",
   "execution_count": 15,
   "metadata": {
    "pycharm": {
     "name": "#%%\n"
    }
   },
   "outputs": [
    {
     "name": "stdout",
     "output_type": "stream",
     "text": [
      "Given sentence is gramatically INCORRECT\n"
     ]
    }
   ],
   "source": [
    "sentence = 'ben okul da git dim'\n",
    "g.parse(sentence)"
   ]
  },
  {
   "cell_type": "code",
   "execution_count": 16,
   "metadata": {
    "pycharm": {
     "name": "#%%\n"
    }
   },
   "outputs": [
    {
     "name": "stdout",
     "output_type": "stream",
     "text": [
      "Given sentence is gramatically INCORRECT\n"
     ]
    }
   ],
   "source": [
    "sentence = 'ben okul git dim'\n",
    "g.parse(sentence)"
   ]
  },
  {
   "cell_type": "code",
   "execution_count": 17,
   "metadata": {
    "pycharm": {
     "name": "#%%\n"
    }
   },
   "outputs": [
    {
     "name": "stdout",
     "output_type": "stream",
     "text": [
      "Given sentence is gramatically CORRECT\n",
      "ben okul da öğren dim\n",
      "['PRO1', 'NP', 'LOCATIVE', 'VTYPE3', 'PAST1']\n"
     ]
    }
   ],
   "source": [
    "sentence = 'ben okul da öğren dim'\n",
    "g.parse(sentence)"
   ]
  },
  {
   "cell_type": "code",
   "execution_count": 18,
   "metadata": {
    "pycharm": {
     "name": "#%%\n"
    }
   },
   "outputs": [
    {
     "name": "stdout",
     "output_type": "stream",
     "text": [
      "Given sentence is gramatically INCORRECT\n"
     ]
    }
   ],
   "source": [
    "sentence = 'ben okul a öğren dim'\n",
    "g.parse(sentence)"
   ]
  },
  {
   "cell_type": "code",
   "execution_count": 19,
   "metadata": {
    "pycharm": {
     "name": "#%%\n"
    }
   },
   "outputs": [
    {
     "name": "stdout",
     "output_type": "stream",
     "text": [
      "Given sentence is gramatically CORRECT\n",
      "ben dün gel dim\n",
      "['PRO1', 'PASTNOUN', 'VP', 'PAST1']\n"
     ]
    }
   ],
   "source": [
    "sentence = 'ben dün gel dim'\n",
    "g.parse(sentence)"
   ]
  },
  {
   "cell_type": "code",
   "execution_count": 20,
   "metadata": {
    "pycharm": {
     "name": "#%%\n"
    }
   },
   "outputs": [
    {
     "name": "stdout",
     "output_type": "stream",
     "text": [
      "Given sentence is gramatically INCORRECT\n"
     ]
    }
   ],
   "source": [
    "sentence = 'ben yarın gel dim'\n",
    "g.parse(sentence)"
   ]
  },
  {
   "cell_type": "code",
   "execution_count": 21,
   "metadata": {
    "pycharm": {
     "name": "#%%\n"
    }
   },
   "outputs": [
    {
     "name": "stdout",
     "output_type": "stream",
     "text": [
      "Given sentence is gramatically CORRECT\n",
      "tarihi bir roman lar oku dum\n",
      "['ADJ', 'SING', 'NP', 'PL', 'VP', 'PAST1']\n"
     ]
    }
   ],
   "source": [
    "sentence = 'tarihi bir roman lar oku dum'\n",
    "g.parse(sentence)"
   ]
  },
  {
   "cell_type": "code",
   "execution_count": 22,
   "metadata": {
    "pycharm": {
     "name": "#%%\n"
    }
   },
   "outputs": [
    {
     "name": "stdout",
     "output_type": "stream",
     "text": [
      "Given sentence is gramatically CORRECT\n",
      "tarihi roman lar oku dum\n",
      "['ADJ', 'NP', 'PL', 'VP', 'PAST1']\n"
     ]
    }
   ],
   "source": [
    "sentence = 'tarihi roman lar oku dum'\n",
    "g.parse(sentence)"
   ]
  },
  {
   "cell_type": "code",
   "execution_count": 23,
   "metadata": {
    "pycharm": {
     "name": "#%%\n"
    }
   },
   "outputs": [
    {
     "name": "stdout",
     "output_type": "stream",
     "text": [
      "Given sentence is gramatically CORRECT\n",
      "tarihi bir roman oku dum\n",
      "['ADJ', 'SING', 'NP', 'VP', 'PAST1']\n"
     ]
    }
   ],
   "source": [
    "sentence = 'tarihi bir roman oku dum'\n",
    "g.parse(sentence)"
   ]
  },
  {
   "cell_type": "markdown",
   "metadata": {},
   "source": [
    "### Example Sentences for Metric Calculation"
   ]
  },
  {
   "cell_type": "code",
   "execution_count": 24,
   "metadata": {
    "pycharm": {
     "name": "#%%\n"
    }
   },
   "outputs": [
    {
     "name": "stdout",
     "output_type": "stream",
     "text": [
      "Given sentence is gramatically CORRECT\n",
      "karpuz en güzel meyve dir\n",
      "['NP', 'ADJ', 'ADJ', 'NP', 'PREPART']\n",
      "\n",
      "------  -------------------  -------------------  ------  -----------\n",
      "['S']\n",
      "['NP']  ['S']\n",
      "[]      ['ADJCLAUSE', 'NP']  ['S']\n",
      "[]      ['ADJ']              ['ADJCLAUSE', 'NP']  ['S']\n",
      "['NP']  ['ADJ']              ['ADJ']              ['NP']  ['PREPART']\n",
      "karpuz  en                   güzel                meyve   dir\n",
      "------  -------------------  -------------------  ------  -----------\n",
      "\n"
     ]
    }
   ],
   "source": [
    "sentence = 'karpuz en güzel meyve dir'\n",
    "g.parse(sentence)\n",
    "g.print_parsed_table()"
   ]
  },
  {
   "cell_type": "code",
   "execution_count": 25,
   "metadata": {},
   "outputs": [],
   "source": [
    "lst1_yhat = ['S', 'NP', 'S', 'ADJ', 'S', 'ADJ', 'S', 'NP', 'PREPART']\n",
    "lst1_gt = None"
   ]
  },
  {
   "cell_type": "code",
   "execution_count": 26,
   "metadata": {
    "pycharm": {
     "name": "#%%\n"
    }
   },
   "outputs": [
    {
     "name": "stdout",
     "output_type": "stream",
     "text": [
      "Given sentence is gramatically CORRECT\n",
      "okul bizim köye epey uzak dı\n",
      "['NP', 'NP', 'NP', 'ADJ', 'ADJ', 'PAST3']\n",
      "\n",
      "------  ------  ------  ------------  ------------  ---------\n",
      "['S']\n",
      "[]      ['S']\n",
      "[]      []      ['S']\n",
      "['NP']  []      []      ['ADJPAST3']\n",
      "['NP']  ['NP']  []      ['ADJ']       ['ADJPAST3']\n",
      "['NP']  ['NP']  ['NP']  ['ADJ']       ['ADJ']       ['PAST3']\n",
      "okul    bizim   köye    epey          uzak          dı\n",
      "------  ------  ------  ------------  ------------  ---------\n",
      "\n"
     ]
    }
   ],
   "source": [
    "sentence = 'okul bizim köye epey uzak dı'\n",
    "g.parse(sentence)\n",
    "g.print_parsed_table()"
   ]
  },
  {
   "cell_type": "code",
   "execution_count": 27,
   "metadata": {},
   "outputs": [],
   "source": [
    "lst2_yhat = ['S', 'NP', 'S','NP', 'S', 'NP', 'ADJPAST3', 'ADJ', 'ADJPAST3', 'ADJ', 'PAST3']\n",
    "lst2_gt = None"
   ]
  },
  {
   "cell_type": "code",
   "execution_count": 28,
   "metadata": {
    "pycharm": {
     "name": "#%%\n"
    }
   },
   "outputs": [
    {
     "name": "stdout",
     "output_type": "stream",
     "text": [
      "Given sentence is gramatically CORRECT\n",
      "destan lar milli kültürümüzü ve tarihimizi güzelce anlat ır\n",
      "['NP', 'PL', 'NP', 'NP', 'PP', 'NP', 'ADV', 'VP', 'PREPART']\n",
      "\n",
      "----------------  -------------  --------  -----------  ------  ----------  -------------  -------------  -----------\n",
      "['S']\n",
      "['NPVP']          []\n",
      "[]                []             ['S']\n",
      "['NP']            []             ['NPVP']  ['S']\n",
      "['NP']            []             []        ['NPVP']     []\n",
      "['NP']            []             ['NP']    []           []      ['S']\n",
      "['NP']            []             ['NP']    ['NP']       []      ['NPVP']    ['VPPREPART']\n",
      "['NP', 'PLNOUN']  []             ['NP']    ['NP']       []      []          ['VP']         ['VPPREPART']\n",
      "['NP']            ['POSPROPL3']  ['NP']    ['NP']       ['PP']  ['NP']      ['ADV']        ['VP']         ['PREPART']\n",
      "destan            lar            milli     kültürümüzü  ve      tarihimizi  güzelce        anlat          ır\n",
      "----------------  -------------  --------  -----------  ------  ----------  -------------  -------------  -----------\n",
      "\n"
     ]
    }
   ],
   "source": [
    "sentence = 'destan lar milli kültürümüzü ve tarihimizi güzelce anlat ır'\n",
    "g.parse(sentence)\n",
    "g.print_parsed_table()"
   ]
  },
  {
   "cell_type": "code",
   "execution_count": 45,
   "metadata": {},
   "outputs": [],
   "source": [
    "lst3_yhat = ['S', 'NPVP', 'S', 'NP', 'POSPROPL3', 'NP', 'S', 'NPVP', 'S', 'NP', 'PP', 'NP', 'VPPREPART', 'VP', 'VPPREPART'\n",
    "            , 'VP', 'PREPART']\n",
    "lst3_gt = None"
   ]
  },
  {
   "cell_type": "code",
   "execution_count": 30,
   "metadata": {
    "pycharm": {
     "name": "#%%\n"
    }
   },
   "outputs": [
    {
     "name": "stdout",
     "output_type": "stream",
     "text": [
      "Given sentence is gramatically CORRECT\n",
      "siz buraya en son ne zaman gel diniz\n",
      "['PROPL2', 'NP', 'ADJ', 'NP', 'Q', 'NP', 'VP', 'PASTPL2']\n",
      "\n",
      "----------  -----------------------  -----------------------  -----------------------  -------------  -----------------------  -------------  -----------\n",
      "['S']\n",
      "[]          ['SIMPLEPASTCLAUSEPL2']\n",
      "[]          ['NPVP']                 ['SIMPLEPASTCLAUSEPL2']\n",
      "[]          []                       ['NPVP']                 ['SIMPLEPASTCLAUSEPL2']\n",
      "[]          []                       []                       ['NPVP']                 ['VPPASTPL2']\n",
      "[]          ['NP']                   []                       []                       ['VP']         ['SIMPLEPASTCLAUSEPL2']\n",
      "[]          []                       ['ADJCLAUSE', 'NP']      []                       ['QP']         ['NPVP']                 ['VPPASTPL2']\n",
      "['PROPL2']  ['NP']                   ['ADJ']                  ['NP']                   ['Q']          ['NP']                   ['VP']         ['PASTPL2']\n",
      "siz         buraya                   en                       son                      ne             zaman                    gel            diniz\n",
      "----------  -----------------------  -----------------------  -----------------------  -------------  -----------------------  -------------  -----------\n",
      "\n"
     ]
    }
   ],
   "source": [
    "sentence = 'siz buraya en son ne zaman gel diniz'\n",
    "g.parse(sentence)\n",
    "g.print_parsed_table()"
   ]
  },
  {
   "cell_type": "code",
   "execution_count": 31,
   "metadata": {},
   "outputs": [],
   "source": [
    "lst4_yhat = ['S', 'VPPASTPL2', 'SIMPEPASTCLAUSEPL2', 'PROPL2', 'NP', 'NP', 'SIMPLEPASTCLAUSEPL2', 'ADJCLAUSE', 'SIMPLEPASTCLAUSEPL2'\n",
    "            ,'ADJ', 'NP', 'NP', 'VPPASTPL2', 'Q', 'NP']\n",
    "lst4_gt = None"
   ]
  },
  {
   "cell_type": "code",
   "execution_count": 32,
   "metadata": {
    "pycharm": {
     "name": "#%%\n"
    }
   },
   "outputs": [
    {
     "name": "stdout",
     "output_type": "stream",
     "text": [
      "Given sentence is gramatically CORRECT\n",
      "sen şimdi keyifle roman oku yor sun\n",
      "['PRO2', 'PRENOUN', 'ADV', 'NP', 'VP', 'PRE', 'POSPRO2']\n",
      "\n",
      "--------  ---------------------  ----------  --------  ----------  --------------  -----------\n",
      "['S']\n",
      "[]        ['TIMEDEFPRECLAUSE2']\n",
      "[]        ['TIMEDEFPRECLAUSE3']  ['VPPRE2']\n",
      "[]        []                     ['VPPRE3']  []\n",
      "[]        []                     ['VP']      []        ['VPPRE2']\n",
      "[]        []                     []          ['NPVP']  ['VPPRE3']  ['PREPOSPRO2']\n",
      "['PRO2']  ['PRENOUN']            ['ADV']     ['NP']    ['VTYPE3']  ['PRE']         ['POSPRO2']\n",
      "sen       şimdi                  keyifle     roman     oku         yor             sun\n",
      "--------  ---------------------  ----------  --------  ----------  --------------  -----------\n",
      "\n"
     ]
    }
   ],
   "source": [
    "sentence = 'sen şimdi keyifle roman oku yor sun'\n",
    "g.parse(sentence)\n",
    "g.print_parsed_table()"
   ]
  },
  {
   "cell_type": "code",
   "execution_count": 33,
   "metadata": {},
   "outputs": [],
   "source": [
    "lst5_yhat = ['S', 'PRO2', 'TIMEDEFPRECLAUSE2', 'PRENOUN', 'VPPRE2', 'VPPRE3', 'VPPRE2', 'ADV', 'NP'\n",
    "             , 'VPPRE3', 'PREPOSPRO2', 'PRE', 'POSPRO2']\n",
    "lst5_gt = None"
   ]
  },
  {
   "cell_type": "code",
   "execution_count": 34,
   "metadata": {
    "pycharm": {
     "name": "#%%\n"
    }
   },
   "outputs": [
    {
     "name": "stdout",
     "output_type": "stream",
     "text": [
      "Given sentence is gramatically CORRECT\n",
      "ben okul da öğren dim\n",
      "['PRO1', 'NP', 'LOCATIVE', 'VTYPE3', 'PAST1']\n",
      "\n",
      "-------------------  ------  ------------  ---------------  ---------\n",
      "['S']\n",
      "[]                   []\n",
      "['LOCATIVECLAUSE1']  []      []\n",
      "['PRONOUNCLAUSE1']   []      []            ['VTYPE3PAST1']\n",
      "['PRO1']             ['NP']  ['LOCATIVE']  ['VTYPE3']       ['PAST1']\n",
      "ben                  okul    da            öğren            dim\n",
      "-------------------  ------  ------------  ---------------  ---------\n",
      "\n"
     ]
    }
   ],
   "source": [
    "sentence = 'ben okul da öğren dim'\n",
    "g.parse(sentence)\n",
    "g.print_parsed_table()"
   ]
  },
  {
   "cell_type": "code",
   "execution_count": 35,
   "metadata": {},
   "outputs": [],
   "source": [
    "lst6_yhat = ['S', 'LOCATIVECLAUSE1', 'VTYPE3PAST1', 'PRONOUNCLAUSE1', 'LOCATIVE', 'VTYPE3', 'PAST1', 'PRO1', 'NP']\n",
    "lst6_gt = None"
   ]
  },
  {
   "cell_type": "code",
   "execution_count": 36,
   "metadata": {
    "pycharm": {
     "name": "#%%\n"
    }
   },
   "outputs": [
    {
     "name": "stdout",
     "output_type": "stream",
     "text": [
      "Given sentence is gramatically CORRECT\n",
      "yüksek sesle müzik dinle me\n",
      "['ADJ', 'NP', 'NP', 'VP', 'IMP']\n",
      "\n",
      "-------------------  --------  --------  -------------  -------\n",
      "['S']\n",
      "['NPVP']             ['S']\n",
      "['ADJCLAUSE', 'NP']  ['NPVP']  ['S']\n",
      "['ADJCLAUSE', 'NP']  ['NP']    ['NPVP']  ['IMPCLAUSE']\n",
      "['ADJ']              ['NP']    ['NP']    ['VP']         ['IMP']\n",
      "yüksek               sesle     müzik     dinle          me\n",
      "-------------------  --------  --------  -------------  -------\n",
      "\n"
     ]
    }
   ],
   "source": [
    "sentence = 'yüksek sesle müzik dinle me'\n",
    "g.parse(sentence)\n",
    "g.print_parsed_table()"
   ]
  },
  {
   "cell_type": "code",
   "execution_count": 37,
   "metadata": {},
   "outputs": [],
   "source": [
    "lst7_yhat = ['S', 'ADJ', 'S', 'NP', 'S', 'NP', 'IMPCLAUSE', 'VP', 'IMP']\n",
    "lst7_gt = None"
   ]
  },
  {
   "cell_type": "code",
   "execution_count": 38,
   "metadata": {
    "pycharm": {
     "name": "#%%\n"
    }
   },
   "outputs": [
    {
     "name": "stdout",
     "output_type": "stream",
     "text": [
      "Given sentence is gramatically CORRECT\n",
      "arkadaşıma hediye ler al dım\n",
      "['NP', 'NP', 'PL', 'VP', 'PAST1']\n",
      "\n",
      "------------------------------------  ------------------------------------  ------  -----------  ---------\n",
      "['S', 'SIMPLEPASTCLAUSE1', 'VPPAST']\n",
      "['NPVP']                              ['S', 'SIMPLEPASTCLAUSE1', 'VPPAST']\n",
      "['NP', 'PLNOUN']                      ['NPVP']                              []\n",
      "['NP']                                ['NP', 'PLNOUN']                      []      ['VPPAST1']\n",
      "['NP']                                ['NP']                                ['PL']  ['VP']       ['PAST1']\n",
      "arkadaşıma                            hediye                                ler     al           dım\n",
      "------------------------------------  ------------------------------------  ------  -----------  ---------\n",
      "\n"
     ]
    }
   ],
   "source": [
    "sentence = 'arkadaşıma hediye ler al dım'\n",
    "g.parse(sentence)\n",
    "g.print_parsed_table()"
   ]
  },
  {
   "cell_type": "code",
   "execution_count": 39,
   "metadata": {},
   "outputs": [],
   "source": [
    "lst8_yhat = ['S', 'NP', 'SIMPLEPASTCLAUSE1', 'NP/PLNOUN', 'VPPAST1', 'NP', 'PL', 'VP', 'PAST1']\n",
    "lst8_gt = None"
   ]
  },
  {
   "cell_type": "code",
   "execution_count": 40,
   "metadata": {
    "pycharm": {
     "name": "#%%\n"
    }
   },
   "outputs": [
    {
     "name": "stdout",
     "output_type": "stream",
     "text": [
      "Given sentence is gramatically CORRECT\n",
      "ben yarın gel ecek im\n",
      "['PRO1', 'FUTNOUN', 'VP', 'FUT', 'POSPRO1']\n",
      "\n",
      "--------  ------------------------  ----------  --------------  -----------\n",
      "['S']\n",
      "[]        ['TIMEDEFFUTURECLAUSE1']\n",
      "[]        ['TIMEDEFFUTURECLAUSE3']  ['VPFUT1']\n",
      "[]        []                        ['VPFUT3']  ['FUTPOSPRO1']\n",
      "['PRO1']  ['FUTNOUN']               ['VP']      ['FUT']         ['POSPRO1']\n",
      "ben       yarın                     gel         ecek            im\n",
      "--------  ------------------------  ----------  --------------  -----------\n",
      "\n"
     ]
    }
   ],
   "source": [
    "sentence = 'ben yarın gel ecek im'\n",
    "g.parse(sentence)\n",
    "g.print_parsed_table()"
   ]
  },
  {
   "cell_type": "code",
   "execution_count": 41,
   "metadata": {},
   "outputs": [],
   "source": [
    "lst9_yhat = ['S', 'PRO1', 'TIMEDEFFUTURECLAUSE1', 'FUTNOUN', 'VPFUT1', 'VP', 'FUTPOSPRO1', 'FUT', 'POSPRO1']\n",
    "lst9_gt = None"
   ]
  },
  {
   "cell_type": "code",
   "execution_count": 42,
   "metadata": {
    "pycharm": {
     "name": "#%%\n"
    }
   },
   "outputs": [
    {
     "name": "stdout",
     "output_type": "stream",
     "text": [
      "Given sentence is gramatically CORRECT\n",
      "bu akşamki toplantıya katıl acak mı sınız\n",
      "['ADJ', 'NP', 'NP', 'VP', 'FUT', 'Q', 'POSPROPL2']\n",
      "\n",
      "-------------------  ------------  ------------  ----------  -------  ------------  -------------\n",
      "['S']\n",
      "[]                   ['S']\n",
      "['NPVPFUT3']         []            ['S']\n",
      "['NPVP']             ['NPVPFUT3']  []            []\n",
      "['ADJCLAUSE', 'NP']  ['NPVP']      ['NPVPFUT3']  []          []\n",
      "['ADJCLAUSE', 'NP']  ['NP']        ['NPVP']      ['VPFUT3']  []       ['QCLAUSE2']\n",
      "['ADJ']              ['NP']        ['NP']        ['VP']      ['FUT']  ['Q']         ['POSPROPL2']\n",
      "bu                   akşamki       toplantıya    katıl       acak     mı            sınız\n",
      "-------------------  ------------  ------------  ----------  -------  ------------  -------------\n",
      "\n"
     ]
    }
   ],
   "source": [
    "sentence = 'bu akşamki toplantıya katıl acak mı sınız'\n",
    "g.parse(sentence)\n",
    "g.print_parsed_table()"
   ]
  },
  {
   "cell_type": "code",
   "execution_count": 43,
   "metadata": {},
   "outputs": [],
   "source": [
    "lst10_yhat = ['S', 'ADJ', 'S', 'NP', 'S', 'NPVPFUT3', 'QCLAUSE2', 'NP', 'VPFUT3', 'VP', 'FUT', 'Q', 'POSPROPL2']\n",
    "lst10_gt = None"
   ]
  },
  {
   "cell_type": "code",
   "execution_count": null,
   "metadata": {},
   "outputs": [],
   "source": []
  }
 ],
 "metadata": {
  "kernelspec": {
   "display_name": "Python 3",
   "language": "python",
   "name": "python3"
  },
  "language_info": {
   "codemirror_mode": {
    "name": "ipython",
    "version": 3
   },
   "file_extension": ".py",
   "mimetype": "text/x-python",
   "name": "python",
   "nbconvert_exporter": "python",
   "pygments_lexer": "ipython3",
   "version": "3.7.9"
  }
 },
 "nbformat": 4,
 "nbformat_minor": 4
}
