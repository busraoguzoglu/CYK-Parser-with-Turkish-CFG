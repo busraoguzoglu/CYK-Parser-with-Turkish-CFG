{
 "cells": [
  {
   "cell_type": "markdown",
   "metadata": {},
   "source": [
    "https://github.com/RobMcH/CYK-Parser"
   ]
  },
  {
   "cell_type": "markdown",
   "metadata": {},
   "source": [
    "https://github.com/ikergarcia1996/Basic-CYK-Parser"
   ]
  },
  {
   "cell_type": "markdown",
   "metadata": {},
   "source": [
    "https://github.com/denizzagli/Context-Free-Grammars-CFGs/blob/master/main.py"
   ]
  },
  {
   "cell_type": "markdown",
   "metadata": {},
   "source": [
    "### Actual Basic but non working great CYK Parser"
   ]
  },
  {
   "cell_type": "code",
   "execution_count": 1,
   "metadata": {},
   "outputs": [],
   "source": [
    "from our_CYK_parser import *"
   ]
  },
  {
   "cell_type": "code",
   "execution_count": 2,
   "metadata": {},
   "outputs": [
    {
     "name": "stdout",
     "output_type": "stream",
     "text": [
      "[['S', 'NP', 'VP'], ['VP', 'V', 'Past1'], ['VP', 'V', 'Past2'], ['VP', 'V', 'Past3'], ['NP', 'NP', 'PL'], ['NP', 'ben'], ['NP', 'sen'], ['NP', 'o'], ['NP', 'kitap'], ['PL', 'lar'], ['V', 'gel'], ['V', 'oku'], ['Past1', 'dim'], ['Past1', 'dum'], ['Past2', 'din'], ['Past2', 'dun'], ['Past3', 'di'], ['Past3', 'du']]\n",
      "[['S', 'NP', 'VP'], ['S', 'S0', 'Q'], ['S0', 'NP', 'VP'], ['S', 'VP', 'Q'], ['S', 'PRO', 'VP'], ['NP', 'NP', 'NP'], ['NP', 'NP', 'P'], ['NP', 'P', 'NP'], ['NP', 'PRO', 'NP'], ['NP', 'PRO', 'P'], ['NP', 'P', 'PRO'], ['NP', 'ADJ', 'NP'], ['VP', 'ADV', 'VP'], ['NP', 'işçiler'], ['NP', 'çatal'], ['NP', 'teleskop'], ['NP', 'hamburgeri'], ['NP', 'dün'], ['NP', 'arkadaşıma'], ['NP', 'hediye'], ['NP', 'romanları'], ['P', 'ile'], ['P', 've'], ['PRO', 'ben'], ['PRO', 'sen'], ['PRO', 'biz'], ['ADJ', 'güzel'], ['ADJ', 'ağır'], ['ADJ', 'bir'], ['ADV', 'keyifle'], ['VP', 'yediler'], ['VP', 'aldım'], ['VP', 'okuyorum'], ['VP', 'yürüyoruz'], ['Q', 'mi']]\n",
      "[['S', 'NP', 'VP'], ['S', 'S0', 'Q'], ['S0', 'NP', 'VP'], ['S', 'VP', 'Q'], ['S', 'PRO', 'VP'], ['NP', 'NP', 'NP'], ['NP', 'NP', 'P'], ['NP', 'P', 'NP'], ['NP', 'PRO', 'NP'], ['NP', 'PRO', 'P'], ['NP', 'P', 'PRO'], ['NP', 'ADJ', 'NP'], ['VP', 'ADV', 'VP'], ['NP', 'işçiler'], ['NP', 'çatal'], ['NP', 'teleskop'], ['NP', 'hamburgeri'], ['NP', 'dün'], ['NP', 'arkadaşıma'], ['NP', 'hediye'], ['NP', 'romanları'], ['P', 'ile'], ['P', 've'], ['PRO', 'ben'], ['PRO', 'sen'], ['PRO', 'biz'], ['ADJ', 'güzel'], ['ADJ', 'ağır'], ['ADJ', 'bir'], ['ADV', 'keyifle'], ['VP', 'yediler'], ['VP', 'aldım'], ['VP', 'okuyorum'], ['VP', 'yürüyoruz'], ['Q', 'mi']]\n"
     ]
    }
   ],
   "source": [
    "CYK = Parser('Grammar/turkish_grammar_with_morphology.txt')\n",
    "CYK2 = Parser('Grammar/turkish_grammar_for_rob2.txt')\n",
    "\n",
    "print(CYK2.grammar)"
   ]
  },
  {
   "cell_type": "code",
   "execution_count": 3,
   "metadata": {},
   "outputs": [
    {
     "data": {
      "text/plain": "[['S', 'NP', 'VP'],\n ['VP', 'V', 'Past1'],\n ['VP', 'V', 'Past2'],\n ['VP', 'V', 'Past3'],\n ['NP', 'NP', 'PL'],\n ['NP', 'ben'],\n ['NP', 'sen'],\n ['NP', 'o'],\n ['NP', 'kitap'],\n ['PL', 'lar'],\n ['V', 'gel'],\n ['V', 'oku'],\n ['Past1', 'dim'],\n ['Past1', 'dum'],\n ['Past2', 'din'],\n ['Past2', 'dun'],\n ['Past3', 'di'],\n ['Past3', 'du']]"
     },
     "execution_count": 3,
     "metadata": {},
     "output_type": "execute_result"
    }
   ],
   "source": [
    "CYK.grammar"
   ]
  },
  {
   "cell_type": "code",
   "execution_count": 4,
   "metadata": {},
   "outputs": [
    {
     "name": "stdout",
     "output_type": "stream",
     "text": [
      "S\n",
      "The given sentence is contained in the language produced by the given grammar!\n",
      "\n",
      "Possible parse(s):\n",
      "[S [NP [NP 'dün'] [NP [PRO 'ben'] [NP [NP 'arkadaşıma'] [NP [ADJ 'güzel'] [NP [ADJ 'bir'] [NP 'hediye']]]]]] [VP 'aldım']]\n",
      "[S [NP [NP 'dün'] [NP [NP [PRO 'ben'] [NP 'arkadaşıma']] [NP [ADJ 'güzel'] [NP [ADJ 'bir'] [NP 'hediye']]]]] [VP 'aldım']]\n",
      "[S [NP [NP [NP 'dün'] [NP [PRO 'ben'] [NP 'arkadaşıma']]] [NP [ADJ 'güzel'] [NP [ADJ 'bir'] [NP 'hediye']]]] [VP 'aldım']]\n",
      "S\n",
      "The given sentence is contained in the language produced by the given grammar!\n",
      "\n",
      "Possible parse(s):\n",
      "[S [NP [PRO 'sen'] [NP [P 've'] [PRO 'ben']]] [VP 'yürüyoruz']]\n",
      "S\n",
      "The given sentence is contained in the language produced by the given grammar!\n",
      "\n",
      "Possible parse(s):\n",
      "[S [NP [ADJ 'ağır'] [NP 'romanları']] [VP 'yediler']]\n",
      "S\n",
      "The given sentence is contained in the language produced by the given grammar!\n",
      "\n",
      "Possible parse(s):\n",
      "[S [PRO 'biz'] [VP 'yürüyoruz']]\n",
      "S\n",
      "The given sentence is contained in the language produced by the given grammar!\n",
      "\n",
      "Possible parse(s):\n",
      "[S [NP 'ben'] [VP [V 'gel'] [Past1 'dim']]]\n",
      "S\n",
      "The given sentence is contained in the language produced by the given grammar!\n",
      "\n",
      "Possible parse(s):\n",
      "[S [NP [NP 'kitap'] [PL 'lar']] [VP [V 'oku'] [Past1 'dum']]]\n"
     ]
    },
    {
     "data": {
      "text/plain": "[\"[S [NP [NP 'kitap'] [PL 'lar']] [VP [V 'oku'] [Past1 'dum']]]\"]"
     },
     "execution_count": 4,
     "metadata": {},
     "output_type": "execute_result"
    }
   ],
   "source": [
    "CYK2.parse('dün ben arkadaşıma güzel bir hediye aldım')\n",
    "CYK2.print_tree()\n",
    "\n",
    "CYK2.parse('sen ve ben yürüyoruz')\n",
    "CYK2.print_tree()\n",
    "\n",
    "CYK2.parse('ağır romanları yediler')\n",
    "CYK2.print_tree()\n",
    "\n",
    "CYK2.parse('biz yürüyoruz')\n",
    "CYK2.print_tree()\n",
    "\n",
    "CYK.parse('ben gel dim')\n",
    "CYK.print_tree()\n",
    "\n",
    "CYK.parse('kitap lar oku dum')\n",
    "CYK.print_tree()"
   ]
  },
  {
   "cell_type": "markdown",
   "metadata": {},
   "source": [
    "### So called Basic CYK Parser"
   ]
  },
  {
   "cell_type": "code",
   "execution_count": 5,
   "metadata": {},
   "outputs": [],
   "source": [
    "from garcia_CYK_Parser import *"
   ]
  },
  {
   "cell_type": "code",
   "execution_count": 6,
   "metadata": {},
   "outputs": [
    {
     "name": "stdout",
     "output_type": "stream",
     "text": [
      "\n",
      "Grammar file readed succesfully. Rules readed:\n",
      "S --> NP VP\n",
      "PP --> P NP\n",
      "VP --> V NP\n",
      "VP --> VP PP\n",
      "NP --> NP PP\n",
      "NP --> astronomers\n",
      "NP --> ears\n",
      "NP --> saw\n",
      "V --> saw\n",
      "NP --> telescope\n",
      "NP --> stars\n",
      "P --> with\n",
      "\n",
      "\n",
      "Grammar file readed succesfully. Rules readed:\n",
      "S --> NP VP\n",
      "S --> NP VP Q\n",
      "S --> VP Q\n",
      "S --> VP\n",
      "NP --> NP NP\n",
      "NP --> NP P\n",
      "NP --> P NP\n",
      "VP --> P NP\n",
      "VP --> V NP\n",
      "NP --> N\n",
      "NP --> PRO\n",
      "VP --> V\n",
      "N --> işçiler\n",
      "N --> çatal\n",
      "N --> teleskop\n",
      "N --> hamburgeri\n",
      "N --> dün\n",
      "N --> arkadaşıma\n",
      "N --> hediye\n",
      "N --> romanları\n",
      "P --> ile\n",
      "P --> ve\n",
      "ADV --> keyifle\n",
      "Q --> mi\n",
      "PRO --> ben\n",
      "PRO --> sen\n",
      "PRO --> biz\n",
      "N --> güzel\n",
      "N --> ağır\n",
      "V --> yediler\n",
      "V --> aldım\n",
      "V --> okuyorum\n",
      "V --> yürüyoruz\n",
      "\n"
     ]
    }
   ],
   "source": [
    "g = Grammar('grammar.txt')\n",
    "g2 = Grammar('Grammar/turkish_grammar_for_rob.txt')"
   ]
  },
  {
   "cell_type": "code",
   "execution_count": 7,
   "metadata": {},
   "outputs": [
    {
     "name": "stdout",
     "output_type": "stream",
     "text": [
      "Applied Rule: VP[2,2] --> V[1,2] NP[1,3]\n",
      "Applied Rule: PP[2,4] --> P[1,4] NP[1,5]\n",
      "Applied Rule: S[3,1] --> NP[1,1] VP[2,2]\n",
      "Applied Rule: NP[3,3] --> NP[1,3] PP[2,4]\n",
      "Applied Rule: VP[4,2] --> V[1,2] NP[3,3]\n",
      "Applied Rule: VP[4,2] --> VP[2,2] PP[2,4]\n",
      "Applied Rule: S[5,1] --> NP[1,1] VP[4,2]\n",
      "Applied Rule: S[5,1] --> NP[1,1] VP[4,2]\n",
      "----------------------------------------\n",
      "The sentence IS accepted in the language\n",
      "Number of possible trees: 2\n",
      "----------------------------------------\n",
      "--------------------------------------------\n",
      "The sentence IS NOT accepted in the language\n",
      "--------------------------------------------\n"
     ]
    }
   ],
   "source": [
    "g.parse('astronomers saw stars with telescope')\n",
    "g2.parse('sen ve ben yürüyoruz')"
   ]
  },
  {
   "cell_type": "code",
   "execution_count": 8,
   "metadata": {},
   "outputs": [
    {
     "name": "stdout",
     "output_type": "stream",
     "text": [
      "\n",
      "-----------  ------------  ------  ------  ---------\n",
      "['S', 'S']\n",
      "[]           ['VP', 'VP']\n",
      "['S']        []            ['NP']\n",
      "[]           ['VP']        []      ['PP']\n",
      "['NP']       ['NP', 'V']   ['NP']  ['P']   ['NP']\n",
      "astronomers  saw           stars   with    telescope\n",
      "-----------  ------------  ------  ------  ---------\n",
      "\n",
      "\n",
      "-------  -----  -------  ---------\n",
      "[]\n",
      "[]       []\n",
      "[]       []     []\n",
      "['PRO']  ['P']  ['PRO']  ['V']\n",
      "sen      ve     ben      yürüyoruz\n",
      "-------  -----  -------  ---------\n",
      "\n"
     ]
    }
   ],
   "source": [
    "g.print_parse_table()\n",
    "g2.print_parse_table()"
   ]
  },
  {
   "cell_type": "code",
   "execution_count": 9,
   "metadata": {},
   "outputs": [
    {
     "data": {
      "text/plain": "{'NP VP': ['S'],\n 'P NP': ['PP'],\n 'V NP': ['VP'],\n 'VP PP': ['VP'],\n 'NP PP': ['NP'],\n 'astronomers': ['NP'],\n 'ears': ['NP'],\n 'saw': ['NP', 'V'],\n 'telescope': ['NP'],\n 'stars': ['NP'],\n 'with': ['P']}"
     },
     "execution_count": 9,
     "metadata": {},
     "output_type": "execute_result"
    }
   ],
   "source": [
    "g.grammar_rules"
   ]
  }
 ],
 "metadata": {
  "kernelspec": {
   "display_name": "Python 3",
   "language": "python",
   "name": "python3"
  },
  "language_info": {
   "codemirror_mode": {
    "name": "ipython",
    "version": 3
   },
   "file_extension": ".py",
   "mimetype": "text/x-python",
   "name": "python",
   "nbconvert_exporter": "python",
   "pygments_lexer": "ipython3",
   "version": "3.7.9"
  }
 },
 "nbformat": 4,
 "nbformat_minor": 4
}