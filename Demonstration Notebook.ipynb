{
 "cells": [
  {
   "cell_type": "markdown",
   "metadata": {},
   "source": [
    "https://github.com/RobMcH/CYK-Parser"
   ]
  },
  {
   "cell_type": "markdown",
   "metadata": {},
   "source": [
    "https://github.com/ikergarcia1996/Basic-CYK-Parser"
   ]
  },
  {
   "cell_type": "markdown",
   "metadata": {},
   "source": [
    "https://github.com/denizzagli/Context-Free-Grammars-CFGs/blob/master/main.py"
   ]
  },
  {
   "cell_type": "markdown",
   "metadata": {},
   "source": [
    "### Actual Basic but non working great CYK Parser"
   ]
  },
  {
   "cell_type": "code",
   "execution_count": 1,
   "metadata": {},
   "outputs": [],
   "source": [
    "from our_CYK_parser import *"
   ]
  },
  {
   "cell_type": "code",
   "execution_count": 2,
   "metadata": {},
   "outputs": [
    {
     "name": "stdout",
     "output_type": "stream",
     "text": [
      "[['S', 'NP', 'VP'], ['S', 'S0', 'Q'], ['S0', 'NP', 'VP'], ['S', 'VP', 'Q'], ['NP', 'NP', 'NP'], ['NP', 'NP', 'P'], ['NP', 'PRO', 'NP'], ['NP', 'P', 'NP'], ['VP', 'V', 'NP'], ['VP', 'P', 'NP'], ['NP', 'işçiler'], ['NP', 'çatal'], ['NP', 'teleskop'], ['NP', 'hamburgeri'], ['NP', 'dün'], ['NP', 'arkadaşıma'], ['NP', 'hediye'], ['NP', 'romanları'], ['P', 'ile'], ['P', 've'], ['PRO', 'ben'], ['PRO', 'sen'], ['PRO', 'biz'], ['NP', 'güzel'], ['NP', 'ağır'], ['VP', 'yediler'], ['VP', 'aldım'], ['VP', 'okuyorum'], ['VP', 'yürüyoruz'], ['Q', 'mi']]\n"
     ]
    }
   ],
   "source": [
    "CYK = Parser('Grammar/turkish_grammar_with_morphology.txt')\n",
    "CYK2 = Parser('Grammar/turkish_grammar_for_rob2.txt')\n",
    "\n",
    "print(CYK2.grammar)"
   ]
  },
  {
   "cell_type": "code",
   "execution_count": 3,
   "metadata": {},
   "outputs": [
    {
     "data": {
      "text/plain": "[['S', 'S1', 'S0'],\n 'S0',\n 'Past',\n ['S1', 'NP', 'VP'],\n ['NP', 'N'],\n ['VP', 'V'],\n ['Past', 'Past1'],\n ['Past', 'Past2'],\n ['Past', 'Past3'],\n ['N', 'ben'],\n ['N', 'sen'],\n ['N', 'o'],\n ['V', 'gel'],\n ['Past1', 'dim'],\n ['Past2', 'din'],\n ['Past3', 'di'],\n ['Past', 'di'],\n ['Past', 'di'],\n ['Past', 'din'],\n ['Past', 'din'],\n ['Past', 'dim'],\n ['Past', 'dim'],\n ['VP', 'gel'],\n ['VP', 'gel'],\n ['NP', 'ben'],\n ['NP', 'ben'],\n ['NP', 'sen'],\n ['NP', 'sen'],\n ['NP', 'o'],\n ['NP', 'o']]"
     },
     "execution_count": 3,
     "metadata": {},
     "output_type": "execute_result"
    }
   ],
   "source": [
    "CYK.grammar"
   ]
  },
  {
   "cell_type": "code",
   "execution_count": 4,
   "metadata": {},
   "outputs": [
    {
     "name": "stdout",
     "output_type": "stream",
     "text": [
      "S\n",
      "The given sentence is contained in the language produced by the given grammar!\n",
      "\n",
      "Possible parse(s):\n",
      "[S [NP [NP 'dün'] [NP [PRO 'ben'] [NP [NP 'arkadaşıma'] [NP 'hediye']]]] [VP 'aldım']]\n",
      "[S [NP [NP 'dün'] [NP [NP [PRO 'ben'] [NP 'arkadaşıma']] [NP 'hediye']]] [VP 'aldım']]\n",
      "[S [NP [NP [NP 'dün'] [NP [PRO 'ben'] [NP 'arkadaşıma']]] [NP 'hediye']] [VP 'aldım']]\n",
      "S\n",
      "The given sentence is not contained in the language produced by the given grammar!\n",
      "S\n",
      "The given sentence is contained in the language produced by the given grammar!\n",
      "\n",
      "Possible parse(s):\n",
      "[S [NP [NP 'ağır'] [NP 'romanları']] [VP 'yediler']]\n",
      "S\n",
      "The given sentence is not contained in the language produced by the given grammar!\n",
      "S\n",
      "The given sentence is not contained in the language produced by the given grammar!\n"
     ]
    },
    {
     "ename": "IndexError",
     "evalue": "list index out of range",
     "output_type": "error",
     "traceback": [
      "\u001B[0;31m---------------------------------------------------------------------------\u001B[0m",
      "\u001B[0;31mIndexError\u001B[0m                                Traceback (most recent call last)",
      "\u001B[0;32m<ipython-input-4-661cbb19afd6>\u001B[0m in \u001B[0;36m<module>\u001B[0;34m\u001B[0m\n\u001B[1;32m     14\u001B[0m \u001B[0mCYK2\u001B[0m\u001B[0;34m.\u001B[0m\u001B[0mprint_tree\u001B[0m\u001B[0;34m(\u001B[0m\u001B[0;34m)\u001B[0m\u001B[0;34m\u001B[0m\u001B[0;34m\u001B[0m\u001B[0m\n\u001B[1;32m     15\u001B[0m \u001B[0;34m\u001B[0m\u001B[0m\n\u001B[0;32m---> 16\u001B[0;31m \u001B[0mCYK\u001B[0m\u001B[0;34m.\u001B[0m\u001B[0mparse\u001B[0m\u001B[0;34m(\u001B[0m\u001B[0;34m'ben gel dim'\u001B[0m\u001B[0;34m)\u001B[0m\u001B[0;34m\u001B[0m\u001B[0;34m\u001B[0m\u001B[0m\n\u001B[0m\u001B[1;32m     17\u001B[0m \u001B[0mCYK\u001B[0m\u001B[0;34m.\u001B[0m\u001B[0mprint_tree\u001B[0m\u001B[0;34m(\u001B[0m\u001B[0;34m)\u001B[0m\u001B[0;34m\u001B[0m\u001B[0;34m\u001B[0m\u001B[0m\n\u001B[1;32m     18\u001B[0m \u001B[0;34m\u001B[0m\u001B[0m\n",
      "\u001B[0;32m/media/busra/8EE89E22E89E089B/School/CMPE561/Assignment2/Ours/CMPE-561-HW2/our_CYK_parser.py\u001B[0m in \u001B[0;36mparse\u001B[0;34m(self, input_sentence)\u001B[0m\n\u001B[1;32m     89\u001B[0m                         \u001B[0mleft_nodes\u001B[0m \u001B[0;34m=\u001B[0m \u001B[0;34m[\u001B[0m\u001B[0mn\u001B[0m \u001B[0;32mfor\u001B[0m \u001B[0mn\u001B[0m \u001B[0;32min\u001B[0m \u001B[0mleft_cell\u001B[0m \u001B[0;32mif\u001B[0m \u001B[0mn\u001B[0m\u001B[0;34m.\u001B[0m\u001B[0msymbol\u001B[0m \u001B[0;34m==\u001B[0m \u001B[0mrule\u001B[0m\u001B[0;34m[\u001B[0m\u001B[0;36m1\u001B[0m\u001B[0;34m]\u001B[0m\u001B[0;34m]\u001B[0m\u001B[0;34m\u001B[0m\u001B[0;34m\u001B[0m\u001B[0m\n\u001B[1;32m     90\u001B[0m                         \u001B[0;32mif\u001B[0m \u001B[0mleft_nodes\u001B[0m\u001B[0;34m:\u001B[0m\u001B[0;34m\u001B[0m\u001B[0;34m\u001B[0m\u001B[0m\n\u001B[0;32m---> 91\u001B[0;31m                             \u001B[0mright_nodes\u001B[0m \u001B[0;34m=\u001B[0m \u001B[0;34m[\u001B[0m\u001B[0mn\u001B[0m \u001B[0;32mfor\u001B[0m \u001B[0mn\u001B[0m \u001B[0;32min\u001B[0m \u001B[0mright_cell\u001B[0m \u001B[0;32mif\u001B[0m \u001B[0mn\u001B[0m\u001B[0;34m.\u001B[0m\u001B[0msymbol\u001B[0m \u001B[0;34m==\u001B[0m \u001B[0mrule\u001B[0m\u001B[0;34m[\u001B[0m\u001B[0;36m2\u001B[0m\u001B[0;34m]\u001B[0m\u001B[0;34m]\u001B[0m\u001B[0;34m\u001B[0m\u001B[0;34m\u001B[0m\u001B[0m\n\u001B[0m\u001B[1;32m     92\u001B[0m                             self.parse_table[words_to_consider - 1][starting_cell].extend(\n\u001B[1;32m     93\u001B[0m                                 \u001B[0;34m[\u001B[0m\u001B[0mNode\u001B[0m\u001B[0;34m(\u001B[0m\u001B[0mrule\u001B[0m\u001B[0;34m[\u001B[0m\u001B[0;36m0\u001B[0m\u001B[0;34m]\u001B[0m\u001B[0;34m,\u001B[0m \u001B[0mleft\u001B[0m\u001B[0;34m,\u001B[0m \u001B[0mright\u001B[0m\u001B[0;34m)\u001B[0m \u001B[0;32mfor\u001B[0m \u001B[0mleft\u001B[0m \u001B[0;32min\u001B[0m \u001B[0mleft_nodes\u001B[0m \u001B[0;32mfor\u001B[0m \u001B[0mright\u001B[0m \u001B[0;32min\u001B[0m \u001B[0mright_nodes\u001B[0m\u001B[0;34m]\u001B[0m\u001B[0;34m\u001B[0m\u001B[0;34m\u001B[0m\u001B[0m\n",
      "\u001B[0;32m/media/busra/8EE89E22E89E089B/School/CMPE561/Assignment2/Ours/CMPE-561-HW2/our_CYK_parser.py\u001B[0m in \u001B[0;36m<listcomp>\u001B[0;34m(.0)\u001B[0m\n\u001B[1;32m     89\u001B[0m                         \u001B[0mleft_nodes\u001B[0m \u001B[0;34m=\u001B[0m \u001B[0;34m[\u001B[0m\u001B[0mn\u001B[0m \u001B[0;32mfor\u001B[0m \u001B[0mn\u001B[0m \u001B[0;32min\u001B[0m \u001B[0mleft_cell\u001B[0m \u001B[0;32mif\u001B[0m \u001B[0mn\u001B[0m\u001B[0;34m.\u001B[0m\u001B[0msymbol\u001B[0m \u001B[0;34m==\u001B[0m \u001B[0mrule\u001B[0m\u001B[0;34m[\u001B[0m\u001B[0;36m1\u001B[0m\u001B[0;34m]\u001B[0m\u001B[0;34m]\u001B[0m\u001B[0;34m\u001B[0m\u001B[0;34m\u001B[0m\u001B[0m\n\u001B[1;32m     90\u001B[0m                         \u001B[0;32mif\u001B[0m \u001B[0mleft_nodes\u001B[0m\u001B[0;34m:\u001B[0m\u001B[0;34m\u001B[0m\u001B[0;34m\u001B[0m\u001B[0m\n\u001B[0;32m---> 91\u001B[0;31m                             \u001B[0mright_nodes\u001B[0m \u001B[0;34m=\u001B[0m \u001B[0;34m[\u001B[0m\u001B[0mn\u001B[0m \u001B[0;32mfor\u001B[0m \u001B[0mn\u001B[0m \u001B[0;32min\u001B[0m \u001B[0mright_cell\u001B[0m \u001B[0;32mif\u001B[0m \u001B[0mn\u001B[0m\u001B[0;34m.\u001B[0m\u001B[0msymbol\u001B[0m \u001B[0;34m==\u001B[0m \u001B[0mrule\u001B[0m\u001B[0;34m[\u001B[0m\u001B[0;36m2\u001B[0m\u001B[0;34m]\u001B[0m\u001B[0;34m]\u001B[0m\u001B[0;34m\u001B[0m\u001B[0;34m\u001B[0m\u001B[0m\n\u001B[0m\u001B[1;32m     92\u001B[0m                             self.parse_table[words_to_consider - 1][starting_cell].extend(\n\u001B[1;32m     93\u001B[0m                                 \u001B[0;34m[\u001B[0m\u001B[0mNode\u001B[0m\u001B[0;34m(\u001B[0m\u001B[0mrule\u001B[0m\u001B[0;34m[\u001B[0m\u001B[0;36m0\u001B[0m\u001B[0;34m]\u001B[0m\u001B[0;34m,\u001B[0m \u001B[0mleft\u001B[0m\u001B[0;34m,\u001B[0m \u001B[0mright\u001B[0m\u001B[0;34m)\u001B[0m \u001B[0;32mfor\u001B[0m \u001B[0mleft\u001B[0m \u001B[0;32min\u001B[0m \u001B[0mleft_nodes\u001B[0m \u001B[0;32mfor\u001B[0m \u001B[0mright\u001B[0m \u001B[0;32min\u001B[0m \u001B[0mright_nodes\u001B[0m\u001B[0;34m]\u001B[0m\u001B[0;34m\u001B[0m\u001B[0;34m\u001B[0m\u001B[0m\n",
      "\u001B[0;31mIndexError\u001B[0m: list index out of range"
     ]
    }
   ],
   "source": [
    "CYK2.parse('dün ben arkadaşıma hediye aldım')\n",
    "CYK2.print_tree()\n",
    "\n",
    "CYK2.parse('sen ve ben yürüyoruz')\n",
    "CYK2.print_tree()\n",
    "\n",
    "CYK2.parse('ağır romanları yediler')\n",
    "CYK2.print_tree()\n",
    "\n",
    "CYK2.parse('biz yürüyoruz')\n",
    "CYK2.print_tree()\n",
    "\n",
    "CYK2.parse('yürüyoruz')\n",
    "CYK2.print_tree()\n",
    "\n",
    "CYK.parse('ben gel dim')\n",
    "CYK.print_tree()"
   ]
  },
  {
   "cell_type": "markdown",
   "metadata": {},
   "source": [
    "### So called Basic CYK Parser"
   ]
  },
  {
   "cell_type": "code",
   "execution_count": null,
   "metadata": {},
   "outputs": [],
   "source": [
    "from garcia_CYK_Parser import *"
   ]
  },
  {
   "cell_type": "code",
   "execution_count": null,
   "metadata": {},
   "outputs": [],
   "source": [
    "g = Grammar('grammar.txt')\n",
    "g2 = Grammar('Grammar/turkish_grammar_for_rob.txt')"
   ]
  },
  {
   "cell_type": "code",
   "execution_count": null,
   "metadata": {},
   "outputs": [],
   "source": [
    "g.parse('astronomers saw stars with telescope')\n",
    "g2.parse('sen ve ben yürüyoruz')"
   ]
  },
  {
   "cell_type": "code",
   "execution_count": null,
   "metadata": {},
   "outputs": [],
   "source": [
    "g.print_parse_table()\n",
    "g2.print_parse_table()"
   ]
  },
  {
   "cell_type": "code",
   "execution_count": null,
   "metadata": {},
   "outputs": [],
   "source": [
    "g.grammar_rules"
   ]
  }
 ],
 "metadata": {
  "kernelspec": {
   "display_name": "Python 3",
   "language": "python",
   "name": "python3"
  },
  "language_info": {
   "codemirror_mode": {
    "name": "ipython",
    "version": 3
   },
   "file_extension": ".py",
   "mimetype": "text/x-python",
   "name": "python",
   "nbconvert_exporter": "python",
   "pygments_lexer": "ipython3",
   "version": "3.7.9"
  }
 },
 "nbformat": 4,
 "nbformat_minor": 4
}