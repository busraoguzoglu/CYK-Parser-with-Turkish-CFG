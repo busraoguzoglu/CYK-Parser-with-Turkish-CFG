{
 "cells": [
  {
   "cell_type": "code",
   "execution_count": null,
   "outputs": [],
   "source": [
    "import pandas as pd\n",
    "from sklearn import metrics\n",
    "\n",
    "from CYK_Parser import *\n",
    "\n",
    "def all_metrics_together(y, y_hat, average = 'micro'):\n",
    "    accuracy = metrics.accuracy_score(y, y_hat)\n",
    "    recall = metrics.recall_score(y, y_hat, average = average)\n",
    "    precision = metrics.precision_score(y, y_hat, average = average)\n",
    "    f1 = metrics.f1_score(y, y_hat, average = average)\n",
    "\n",
    "    df = pd.DataFrame({'Accuracy': accuracy, 'Recall': recall, 'Precision': precision, 'F1': f1}, index = ['Score'])\n",
    "    return df"
   ],
   "metadata": {
    "collapsed": false,
    "pycharm": {
     "name": "#%%\n"
    }
   }
  },
  {
   "cell_type": "code",
   "execution_count": null,
   "outputs": [],
   "source": [
    "all_metrics_together(['b', 'b', 'b', 'a'], ['a', 'b', 'c', 'a'])"
   ],
   "metadata": {
    "collapsed": false,
    "pycharm": {
     "name": "#%%\n"
    }
   }
  },
  {
   "cell_type": "markdown",
   "source": [
    "### CYK Parser"
   ],
   "metadata": {
    "collapsed": false
   }
  },
  {
   "cell_type": "markdown",
   "source": [
    "### Example Sentences for Syntax Based Agreement Phenomena"
   ],
   "metadata": {
    "collapsed": false
   }
  },
  {
   "cell_type": "code",
   "execution_count": null,
   "outputs": [],
   "source": [
    "g = CYKParser('Grammar/turkish_grammar_with_morphology_v3.txt')"
   ],
   "metadata": {
    "collapsed": false,
    "pycharm": {
     "name": "#%%\n"
    }
   }
  },
  {
   "cell_type": "code",
   "execution_count": null,
   "outputs": [],
   "source": [
    "sentence = 'ben gel dim'\n",
    "g.parse(sentence)"
   ],
   "metadata": {
    "collapsed": false,
    "pycharm": {
     "name": "#%%\n"
    }
   }
  },
  {
   "cell_type": "code",
   "execution_count": null,
   "outputs": [],
   "source": [
    "sentence = 'sen gel dim'\n",
    "g.parse(sentence)"
   ],
   "metadata": {
    "collapsed": false,
    "pycharm": {
     "name": "#%%\n"
    }
   }
  },
  {
   "cell_type": "code",
   "execution_count": null,
   "outputs": [],
   "source": [
    "sentence = 'ben gel din'\n",
    "g.parse(sentence)"
   ],
   "metadata": {
    "collapsed": false,
    "pycharm": {
     "name": "#%%\n"
    }
   }
  },
  {
   "cell_type": "code",
   "execution_count": null,
   "outputs": [],
   "source": [
    "sentence = 'sen gel din'\n",
    "g.parse(sentence)"
   ],
   "metadata": {
    "collapsed": false,
    "pycharm": {
     "name": "#%%\n"
    }
   }
  },
  {
   "cell_type": "code",
   "execution_count": null,
   "outputs": [],
   "source": [
    "sentence = 'ben roman oku dum'\n",
    "g.parse(sentence)"
   ],
   "metadata": {
    "collapsed": false,
    "pycharm": {
     "name": "#%%\n"
    }
   }
  },
  {
   "cell_type": "code",
   "execution_count": null,
   "outputs": [],
   "source": [
    "sentence = 'ben kitap oku du'\n",
    "g.parse(sentence)"
   ],
   "metadata": {
    "collapsed": false,
    "pycharm": {
     "name": "#%%\n"
    }
   }
  },
  {
   "cell_type": "code",
   "execution_count": null,
   "outputs": [],
   "source": [
    "sentence = 'ben arkadaşıma hediye al dı'\n",
    "g.parse(sentence)\n",
    "g.print_parsed_table()"
   ],
   "metadata": {
    "collapsed": false,
    "pycharm": {
     "name": "#%%\n"
    }
   }
  },
  {
   "cell_type": "code",
   "execution_count": null,
   "outputs": [],
   "source": [
    "sentence = 'arkadaşıma hediye al dı'\n",
    "g.parse(sentence)"
   ],
   "metadata": {
    "collapsed": false,
    "pycharm": {
     "name": "#%%\n"
    }
   }
  },
  {
   "cell_type": "code",
   "execution_count": null,
   "outputs": [],
   "source": [
    "sentence = 'akşam yemeği için yardım et dim'\n",
    "g.parse(sentence)\n",
    "#g.print_parsed_table()"
   ],
   "metadata": {
    "collapsed": false,
    "pycharm": {
     "name": "#%%\n"
    }
   }
  },
  {
   "cell_type": "code",
   "execution_count": null,
   "outputs": [],
   "source": [
    "g.print_parsed_table()"
   ],
   "metadata": {
    "collapsed": false,
    "pycharm": {
     "name": "#%%\n"
    }
   }
  },
  {
   "cell_type": "markdown",
   "source": [
    "### Example Sentences for Semantic Based Agreement Phenomena"
   ],
   "metadata": {
    "collapsed": false
   }
  },
  {
   "cell_type": "code",
   "execution_count": null,
   "outputs": [],
   "source": [
    "sentence = 'ben okul a git dim'\n",
    "g.parse(sentence)"
   ],
   "metadata": {
    "collapsed": false,
    "pycharm": {
     "name": "#%%\n"
    }
   }
  },
  {
   "cell_type": "code",
   "execution_count": null,
   "outputs": [],
   "source": [
    "sentence = 'ben okul da git dim'\n",
    "g.parse(sentence)"
   ],
   "metadata": {
    "collapsed": false,
    "pycharm": {
     "name": "#%%\n"
    }
   }
  },
  {
   "cell_type": "code",
   "execution_count": null,
   "outputs": [],
   "source": [
    "sentence = 'ben okul git dim'\n",
    "g.parse(sentence)"
   ],
   "metadata": {
    "collapsed": false,
    "pycharm": {
     "name": "#%%\n"
    }
   }
  },
  {
   "cell_type": "code",
   "execution_count": null,
   "outputs": [],
   "source": [
    "sentence = 'ben okul da öğren dim'\n",
    "g.parse(sentence)"
   ],
   "metadata": {
    "collapsed": false,
    "pycharm": {
     "name": "#%%\n"
    }
   }
  },
  {
   "cell_type": "code",
   "execution_count": null,
   "outputs": [],
   "source": [
    "sentence = 'ben okul a öğren dim'\n",
    "g.parse(sentence)"
   ],
   "metadata": {
    "collapsed": false,
    "pycharm": {
     "name": "#%%\n"
    }
   }
  },
  {
   "cell_type": "code",
   "execution_count": null,
   "outputs": [],
   "source": [
    "sentence = 'ben dün gel dim'\n",
    "g.parse(sentence)"
   ],
   "metadata": {
    "collapsed": false,
    "pycharm": {
     "name": "#%%\n"
    }
   }
  },
  {
   "cell_type": "code",
   "execution_count": null,
   "outputs": [],
   "source": [
    "sentence = 'ben yarın gel dim'\n",
    "g.parse(sentence)"
   ],
   "metadata": {
    "collapsed": false,
    "pycharm": {
     "name": "#%%\n"
    }
   }
  },
  {
   "cell_type": "code",
   "execution_count": null,
   "outputs": [],
   "source": [
    "sentence = 'tarihi bir roman lar oku dum'\n",
    "g.parse(sentence)"
   ],
   "metadata": {
    "collapsed": false,
    "pycharm": {
     "name": "#%%\n"
    }
   }
  },
  {
   "cell_type": "code",
   "execution_count": null,
   "outputs": [],
   "source": [
    "sentence = 'tarihi roman lar oku dum'\n",
    "g.parse(sentence)"
   ],
   "metadata": {
    "collapsed": false,
    "pycharm": {
     "name": "#%%\n"
    }
   }
  },
  {
   "cell_type": "code",
   "execution_count": null,
   "outputs": [],
   "source": [
    "sentence = 'tarihi bir roman oku dum'\n",
    "g.parse(sentence)"
   ],
   "metadata": {
    "collapsed": false,
    "pycharm": {
     "name": "#%%\n"
    }
   }
  },
  {
   "cell_type": "markdown",
   "source": [
    "### Example Sentences for Metric Calculation"
   ],
   "metadata": {
    "collapsed": false
   }
  },
  {
   "cell_type": "code",
   "execution_count": null,
   "outputs": [],
   "source": [
    "sentence = 'karpuz en güzel meyve dir'\n",
    "g.parse(sentence)\n",
    "g.print_parsed_table()"
   ],
   "metadata": {
    "collapsed": false,
    "pycharm": {
     "name": "#%%\n"
    }
   }
  },
  {
   "cell_type": "code",
   "execution_count": null,
   "outputs": [],
   "source": [
    "lst1_yhat = ['S', 'NP', 'S', 'ADJ', 'S', 'ADJ', 'S', 'NP', 'PREPART']\n",
    "lst1_gt = ['S','NP','S', 'ADJ','S', 'ADJ','ADJCLAUSE', 'NP', 'PREPART']"
   ],
   "metadata": {
    "collapsed": false,
    "pycharm": {
     "name": "#%%\n"
    }
   }
  },
  {
   "cell_type": "code",
   "execution_count": null,
   "outputs": [],
   "source": [
    "sentence = 'okul bizim köye epey uzak dı'\n",
    "g.parse(sentence)\n",
    "g.print_parsed_table()"
   ],
   "metadata": {
    "collapsed": false,
    "pycharm": {
     "name": "#%%\n"
    }
   }
  },
  {
   "cell_type": "code",
   "execution_count": null,
   "outputs": [],
   "source": [
    "lst2_yhat = ['S', 'NP', 'S','NP', 'S', 'NP', 'ADJPAST3', 'ADJ', 'ADJPAST3', 'ADJ', 'PAST3']\n",
    "lst2_gt = ['S', 'NP', 'S','NP', 'S', 'NP', 'ADJPAST3', 'ADJ', 'ADJ', 'ADJ', 'PAST3']"
   ],
   "metadata": {
    "collapsed": false,
    "pycharm": {
     "name": "#%%\n"
    }
   }
  },
  {
   "cell_type": "code",
   "execution_count": null,
   "outputs": [],
   "source": [
    "sentence = 'destan lar milli kültürümüzü ve tarihimizi güzelce anlat ır'\n",
    "g.parse(sentence)\n",
    "g.print_parsed_table()"
   ],
   "metadata": {
    "collapsed": false,
    "pycharm": {
     "name": "#%%\n"
    }
   }
  },
  {
   "cell_type": "code",
   "execution_count": null,
   "outputs": [],
   "source": [
    "lst3_yhat = ['S', 'NPVP', 'S', 'NP', 'POSPROPL3', 'NP', 'S', 'NPVP', 'S', 'NP', 'PP', 'NP', 'VPPREPART', 'VP', 'VPPREPART'\n",
    "            , 'VP', 'PREPART']\n",
    "lst3_gt = ['S', 'NP', 'S', 'PL', 'S', 'NP', 'S', 'PP', 'S', 'NP', 'S', 'VPPREPART', 'VP', 'VPPREPART'\n",
    "            , 'ADV', 'VP', 'PREPART']"
   ],
   "metadata": {
    "collapsed": false,
    "pycharm": {
     "name": "#%%\n"
    }
   }
  },
  {
   "cell_type": "code",
   "execution_count": null,
   "outputs": [],
   "source": [
    "sentence = 'siz buraya en son ne zaman gel diniz'\n",
    "g.parse(sentence)\n",
    "g.print_parsed_table()"
   ],
   "metadata": {
    "collapsed": false,
    "pycharm": {
     "name": "#%%\n"
    }
   }
  },
  {
   "cell_type": "code",
   "execution_count": null,
   "outputs": [],
   "source": [
    "lst4_yhat = ['S', 'VPPASTPL2', 'SIMPEPASTCLAUSEPL2', 'PROPL2', 'NP', 'NP', 'SIMPLEPASTCLAUSEPL2', 'ADJCLAUSE', 'SIMPLEPASTCLAUSEPL2'\n",
    "            ,'ADJ', 'NP', 'NP', 'VPPASTPL2', 'Q', 'NP']\n",
    "lst4_gt = ['S', 'PROPL2', 'SIMPEPASTCLAUSEPL2', 'NP', 'NP', 'SIMPLEPASTCLAUSEPL2', 'ADJCLAUSE', 'SIMPLEPASTCLAUSEPL2'\n",
    "            ,'ADJ', 'NP', 'NP', 'VPPASTPL2','VP', 'Q', 'NP', 'VP', 'PASTPL2']"
   ],
   "metadata": {
    "collapsed": false,
    "pycharm": {
     "name": "#%%\n"
    }
   }
  },
  {
   "cell_type": "code",
   "execution_count": null,
   "outputs": [],
   "source": [
    "sentence = 'sen şimdi keyifle roman oku yor sun'\n",
    "g.parse(sentence)\n",
    "g.print_parsed_table()"
   ],
   "metadata": {
    "collapsed": false,
    "pycharm": {
     "name": "#%%\n"
    }
   }
  },
  {
   "cell_type": "code",
   "execution_count": null,
   "outputs": [],
   "source": [
    "lst5_yhat = ['S', 'PRO2', 'TIMEDEFPRECLAUSE2', 'PRENOUN', 'VPPRE2', 'VPPRE3', 'VPPRE2', 'ADV', 'NP'\n",
    "             , 'VPPRE3', 'PREPOSPRO2', 'PRE', 'POSPRO2']\n",
    "lst5_gt = ['S', 'PRO2', 'TIMEDEFPRECLAUSE2', 'PRENOUN', 'VPPRE2', 'VPPRE3', 'VP', 'PRE', 'ADV'\n",
    "             , 'NPVP', 'PREPOSPRO2', 'PRE', 'POSPRO2']"
   ],
   "metadata": {
    "collapsed": false,
    "pycharm": {
     "name": "#%%\n"
    }
   }
  },
  {
   "cell_type": "code",
   "execution_count": null,
   "outputs": [],
   "source": [
    "sentence = 'ben okul da öğren dim'\n",
    "g.parse(sentence)\n",
    "g.print_parsed_table()"
   ],
   "metadata": {
    "collapsed": false,
    "pycharm": {
     "name": "#%%\n"
    }
   }
  },
  {
   "cell_type": "code",
   "execution_count": null,
   "outputs": [],
   "source": [
    "lst6_yhat = ['S', 'LOCATIVECLAUSE1', 'VTYPE3PAST1', 'PRONOUNCLAUSE1', 'LOCATIVE', 'VTYPE3', 'PAST1', 'PRO1', 'NP']\n",
    "lst6_gt = ['S', 'LOCATIVECLAUSE1', 'VTYPE3PAST1', 'PRONOUNCLAUSE1', 'LOCATIVE', 'VTYPE3', 'PAST1', 'PRO1', 'NP']"
   ],
   "metadata": {
    "collapsed": false,
    "pycharm": {
     "name": "#%%\n"
    }
   }
  },
  {
   "cell_type": "code",
   "execution_count": null,
   "outputs": [],
   "source": [
    "sentence = 'yüksek sesle müzik dinle me'\n",
    "g.parse(sentence)\n",
    "g.print_parsed_table()"
   ],
   "metadata": {
    "collapsed": false,
    "pycharm": {
     "name": "#%%\n"
    }
   }
  },
  {
   "cell_type": "code",
   "execution_count": null,
   "outputs": [],
   "source": [
    "lst7_yhat = ['S', 'ADJ', 'S', 'NP', 'S', 'NP', 'IMPCLAUSE', 'VP', 'IMP']\n",
    "lst7_gt = ['S', 'ADJ', 'S', 'NP', 'NP', 'NP', 'IMPCLAUSE', 'VP', 'IMP']"
   ],
   "metadata": {
    "collapsed": false,
    "pycharm": {
     "name": "#%%\n"
    }
   }
  },
  {
   "cell_type": "code",
   "execution_count": null,
   "outputs": [],
   "source": [
    "sentence = 'arkadaşıma hediye ler al dım'\n",
    "g.parse(sentence)\n",
    "g.print_parsed_table()"
   ],
   "metadata": {
    "collapsed": false,
    "pycharm": {
     "name": "#%%\n"
    }
   }
  },
  {
   "cell_type": "code",
   "execution_count": null,
   "outputs": [],
   "source": [
    "lst8_yhat = ['S', 'NP', 'SIMPLEPASTCLAUSE1', 'NP/PLNOUN', 'VPPAST1', 'NP', 'PL', 'VP', 'PAST1']\n",
    "lst8_gt =  ['S', 'NP', 'PLNOUN','NP', 'PL','VPPAST1', 'VP', 'PAST1']"
   ],
   "metadata": {
    "collapsed": false,
    "pycharm": {
     "name": "#%%\n"
    }
   }
  },
  {
   "cell_type": "code",
   "execution_count": null,
   "outputs": [],
   "source": [
    "sentence = 'ben yarın gel ecek im'\n",
    "g.parse(sentence)\n",
    "g.print_parsed_table()"
   ],
   "metadata": {
    "collapsed": false,
    "pycharm": {
     "name": "#%%\n"
    }
   }
  },
  {
   "cell_type": "code",
   "execution_count": null,
   "outputs": [],
   "source": [
    "lst9_yhat = ['S', 'PRO1', 'TIMEDEFFUTURECLAUSE1', 'FUTNOUN', 'VPFUT1', 'VP', 'FUTPOSPRO1', 'FUT', 'POSPRO1']\n",
    "lst9_gt = ['S', 'PRO1', 'TIMEDEFFUTURECLAUSE1', 'FUTNOUN', 'VPFUT1', 'VP', 'FUT', 'POSPRO1']"
   ],
   "metadata": {
    "collapsed": false,
    "pycharm": {
     "name": "#%%\n"
    }
   }
  },
  {
   "cell_type": "code",
   "execution_count": null,
   "outputs": [],
   "source": [
    "sentence = 'bu akşamki toplantıya katıl acak mı sınız'\n",
    "g.parse(sentence)\n",
    "g.print_parsed_table()"
   ],
   "metadata": {
    "collapsed": false,
    "pycharm": {
     "name": "#%%\n"
    }
   }
  },
  {
   "cell_type": "code",
   "execution_count": null,
   "outputs": [],
   "source": [
    "lst10_yhat = ['S', 'ADJ', 'S', 'NP', 'S', 'NPVPFUT3', 'QCLAUSE2', 'NP', 'VPFUT3', 'VP', 'FUT', 'Q', 'POSPROPL2']\n",
    "lst10_gt = ['S', 'ADJ', 'S', 'NP', 'S', 'NPVPFUT3', 'QCLAUSE2', 'NP', 'VPFUT3', 'VP', 'FUT', 'QCLAUSE2', 'Q', 'POSPROPL2']"
   ],
   "metadata": {
    "collapsed": false,
    "pycharm": {
     "name": "#%%\n"
    }
   }
  },
  {
   "cell_type": "code",
   "execution_count": null,
   "outputs": [],
   "source": [],
   "metadata": {
    "collapsed": false,
    "pycharm": {
     "name": "#%%\n"
    }
   }
  }
 ],
 "metadata": {
  "kernelspec": {
   "display_name": "Python 3",
   "language": "python",
   "name": "python3"
  },
  "language_info": {
   "codemirror_mode": {
    "name": "ipython",
    "version": 3
   },
   "file_extension": ".py",
   "mimetype": "text/x-python",
   "name": "python",
   "nbconvert_exporter": "python",
   "pygments_lexer": "ipython3",
   "version": "3.7.9"
  }
 },
 "nbformat": 4,
 "nbformat_minor": 4
}