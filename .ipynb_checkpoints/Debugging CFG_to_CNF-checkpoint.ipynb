{
 "cells": [
  {
   "cell_type": "code",
   "execution_count": 1,
   "metadata": {},
   "outputs": [],
   "source": [
    "from grammar_converter import *"
   ]
  },
  {
   "cell_type": "code",
   "execution_count": 8,
   "metadata": {},
   "outputs": [],
   "source": [
    "cfg = read_grammar('grammar_for_rob.txt')"
   ]
  },
  {
   "cell_type": "code",
   "execution_count": 12,
   "metadata": {},
   "outputs": [
    {
     "name": "stdout",
     "output_type": "stream",
     "text": [
      "13\n"
     ]
    },
    {
     "data": {
      "text/plain": [
       "[['S', 'NP', 'VP'],\n",
       " ['PP', 'P', 'NP'],\n",
       " ['VP', 'V', 'NP'],\n",
       " ['VP', 'VP', 'PP'],\n",
       " ['NP', 'NP', 'PP'],\n",
       " ['VP', 'PP', 'NP', 'VP'],\n",
       " ['NP', 'astronomers'],\n",
       " ['NP', 'ears'],\n",
       " ['NP', 'saw'],\n",
       " ['V', 'saw'],\n",
       " ['NP', 'telescope'],\n",
       " ['NP', 'stars'],\n",
       " ['P', 'with']]"
      ]
     },
     "execution_count": 12,
     "metadata": {},
     "output_type": "execute_result"
    }
   ],
   "source": [
    "print(len(cfg))\n",
    "cfg"
   ]
  },
  {
   "cell_type": "code",
   "execution_count": 10,
   "metadata": {},
   "outputs": [],
   "source": [
    "cnf = CFG_to_CNF('grammar_for_rob.txt')"
   ]
  },
  {
   "cell_type": "code",
   "execution_count": 13,
   "metadata": {},
   "outputs": [
    {
     "name": "stdout",
     "output_type": "stream",
     "text": [
      "14\n"
     ]
    },
    {
     "data": {
      "text/plain": [
       "[['S', 'NP', 'VP'],\n",
       " ['PP', 'P', 'NP'],\n",
       " ['VP', 'V', 'NP'],\n",
       " ['VP', 'VP', 'PP'],\n",
       " ['NP', 'NP', 'PP'],\n",
       " ['VP', 'VP0', 'VP'],\n",
       " ['VP0', 'PP', 'NP'],\n",
       " ['NP', 'astronomers'],\n",
       " ['NP', 'ears'],\n",
       " ['NP', 'saw'],\n",
       " ['V', 'saw'],\n",
       " ['NP', 'telescope'],\n",
       " ['NP', 'stars'],\n",
       " ['P', 'with']]"
      ]
     },
     "execution_count": 13,
     "metadata": {},
     "output_type": "execute_result"
    }
   ],
   "source": [
    "print(len(cnf))\n",
    "cnf"
   ]
  },
  {
   "cell_type": "code",
   "execution_count": 18,
   "metadata": {},
   "outputs": [],
   "source": [
    "# Remove all the productions of the type A -> X B C or A -> B a.\n",
    "grammar = read_grammar('grammar_for_rob.txt')\n",
    "global RULE_DICT\n",
    "global non_terminals\n",
    "unit_productions, result = [], []\n",
    "res_append = result.append\n",
    "index = 0\n",
    "\n",
    "for rule in grammar:\n",
    "    new_rules = []\n",
    "    if len(rule) == 2 and rule[1] not in non_terminals:\n",
    "        add_rule(rule)\n",
    "        continue\n",
    "    \n",
    "    if len(rule) == 2 and rule[1] in non_terminals:\n",
    "        # Rule is in form A -> X, so back it up for later and continue with the next rule.\n",
    "        unit_productions.append(rule)\n",
    "        print(rule)\n",
    "        add_rule(rule)\n",
    "        continue\n",
    "    elif len(rule) > 2:\n",
    "        # Rule is in form A -> X B C [...] or A -> X a.\n",
    "        terminals = [(item, i) for i, item in enumerate(rule) if item not in non_terminals]\n",
    "        if terminals:\n",
    "            for item in terminals:\n",
    "                # Create a new non terminal symbol and replace the terminal symbol with it.\n",
    "                # The non terminal symbol derives the replaced terminal symbol.\n",
    "                rule[item[1]] = f\"{rule[0]}{str(index)}\"\n",
    "                new_rules += [f\"{rule[0]}{str(index)}\", item[0]]\n",
    "            index += 1\n",
    "        while len(rule) > 3:\n",
    "            new_rules.append([f\"{rule[0]}{str(index)}\", rule[1], rule[2]])\n",
    "            rule = [rule[0]] + [f\"{rule[0]}{str(index)}\"] + rule[3:]\n",
    "            index += 1\n",
    "    # Adds the modified or unmodified (in case of A -> x i.e.) rules.\n",
    "    add_rule(rule)\n",
    "    res_append(rule)\n",
    "    if new_rules:\n",
    "        result.extend(new_rules)\n",
    "# Handle the unit productions (A -> X)\n",
    "while unit_productions:\n",
    "    print(unit_productions)\n",
    "    rule = unit_productions.pop()\n",
    "    if rule[1] in RULE_DICT:\n",
    "        for item in RULE_DICT[rule[1]]:\n",
    "            new_rule = [rule[0]] + item\n",
    "            if len(new_rule) > 2 or new_rule[1] not in non_terminals:\n",
    "                res_append(new_rule)\n",
    "            else:\n",
    "                unit_productions.append(new_rule)\n",
    "            add_rule(new_rule)"
   ]
  },
  {
   "cell_type": "code",
   "execution_count": null,
   "metadata": {},
   "outputs": [],
   "source": []
  }
 ],
 "metadata": {
  "kernelspec": {
   "display_name": "Python 3",
   "language": "python",
   "name": "python3"
  },
  "language_info": {
   "codemirror_mode": {
    "name": "ipython",
    "version": 3
   },
   "file_extension": ".py",
   "mimetype": "text/x-python",
   "name": "python",
   "nbconvert_exporter": "python",
   "pygments_lexer": "ipython3",
   "version": "3.7.9"
  }
 },
 "nbformat": 4,
 "nbformat_minor": 4
}
